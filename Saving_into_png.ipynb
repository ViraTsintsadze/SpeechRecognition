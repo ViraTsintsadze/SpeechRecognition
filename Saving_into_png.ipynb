{
 "cells": [
  {
   "cell_type": "code",
   "execution_count": 15,
   "metadata": {},
   "outputs": [],
   "source": [
    "import scipy.io.wavfile as wv\n",
    "import os\n",
    "from matplotlib import pyplot as plt\n",
    "import matplotlib.cm as cm\n",
    "import numpy as np\n",
    "import scipy.signal as ss"
   ]
  },
  {
   "cell_type": "code",
   "execution_count": 16,
   "metadata": {},
   "outputs": [],
   "source": [
    "def folders (FoldersList):\n",
    "    for fold in FoldersList:\n",
    "        #check is folder exists, if not - create\n",
    "        if (os.path.isdir(fold)==0):\n",
    "            os.mkdir(fold)"
   ]
  },
  {
   "cell_type": "code",
   "execution_count": 17,
   "metadata": {},
   "outputs": [],
   "source": [
    "def signal_interval(SampleRate, data_f, step, step_coef, file):\n",
    "    over_std = np.where(abs(data_f)>data_f.std())[0]\n",
    "    N, = over_std.shape\n",
    "    \n",
    "    over_std_cont = np.zeros ((len(data_f),1))\n",
    "    n = 0\n",
    "    while (n<N-step):\n",
    "        if over_std[n+step]-over_std[n]<=step*step_coef: #where is no gap\n",
    "            over_std_cont[over_std[n]:over_std[n+step]]=1\n",
    "        n+=1\n",
    "    diff = over_std_cont[:-1]-over_std_cont[1:]\n",
    "    starts = np.where (diff==-1)[0] \n",
    "    ends = np.where (diff==1)[0]\n",
    "    \n",
    "    if len(starts)<len(ends):\n",
    "        starts.insert(0, 0) #first start will be the beginnibg of the trace\n",
    "    elif len(starts)>len(ends):\n",
    "        ends.insert(len(data), -1) #last start is end of trace\n",
    "    durations = ends-starts\n",
    "    start_p = starts[durations.argmax()]\n",
    "    end_p = ends[durations.argmax()]\n",
    "    \n",
    "    ###plotting###\n",
    "    plt.figure()\n",
    "    for n in range(N):\n",
    "        plt.axvline(over_std[n])\n",
    "    plt.plot(data_f, 'k')\n",
    "    plt.axvline(start_p, color = 'r')\n",
    "    plt.axvline(end_p, color = 'r')\n",
    "    plt.savefig(os.path.join(path, 'Signal_Interval', file+'.png'))\n",
    "    plt.close('all')\n",
    "    \n",
    "    return start_p, end_p"
   ]
  },
  {
   "cell_type": "code",
   "execution_count": 18,
   "metadata": {},
   "outputs": [],
   "source": [
    "def to_png(SampleRate, data, file):\n",
    "    #filtering\n",
    "    f_cutoff = [500, 3200]\n",
    "    Wn = [f_cutoff[0] / (SampleRate/2) , f_cutoff[1] / (SampleRate/2)]\n",
    "    b, a = ss.iirfilter(1, Wn, ftype='butter', btype='bandpass')\n",
    "    data_f = ss.filtfilt(b, a, data)\n",
    "\n",
    "    #start and end of signal\n",
    "    start_p, end_p = signal_interval(SampleRate, data_f, 10, 80, file)\n",
    "    \n",
    "    ###resampling###\n",
    "    Resampling = 10000\n",
    "    data_res = ss.resample(data_f[start_p:end_p], Resampling)\n",
    "    SampleRate_res = Resampling/(end_p-start_p)*SampleRate\n",
    "\n",
    "    #spectrogramm###\n",
    "    plt.subplot(1,2,1)\n",
    "    f, t, Sxx = ss.spectrogram(data_res, fs = SampleRate_res)\n",
    "    plt.pcolormesh(t, f, Sxx, cmap=cm.gray)\n",
    "    plt.xlim(t[0],t[-1])\n",
    "    plt.ylim(500,3200)\n",
    "    plt.yscale('log')\n",
    "    plt.axis('off')\n",
    "    plt.margins(0.0)\n",
    "\n",
    "    ###trace###\n",
    "    plt.subplot(1,2,2)\n",
    "    plt.plot(data_res, 'k')\n",
    "    plt.axis('off')\n",
    "    plt.margins(0.0)\n",
    "    plt.savefig(os.path.join(path, Destin_Dir, file+'.png'), bbox_inches=\"tight\", cmap='gray')\n",
    "    plt.close('all')"
   ]
  },
  {
   "cell_type": "code",
   "execution_count": 22,
   "metadata": {},
   "outputs": [],
   "source": [
    "path = os.getcwd()\n",
    "WAV_Dir = 'numbers_test'\n",
    "filelist = os.listdir(os.path.join(path,WAV_Dir))\n",
    "Destin_Dir = 'TestSamples'\n",
    "Signal_Interval_Folder = 'Signal_Interval'\n",
    "folders ([Destin_Dir, Signal_Interval_Folder])\n",
    "\n",
    "for file in filelist:\n",
    "    SampleRate,data = wv.read(os.path.join(path, WAV_Dir, file))\n",
    "    to_png(SampleRate, data, file)"
   ]
  },
  {
   "cell_type": "code",
   "execution_count": null,
   "metadata": {},
   "outputs": [],
   "source": []
  }
 ],
 "metadata": {
  "kernelspec": {
   "display_name": "Python 3",
   "language": "python",
   "name": "python3"
  },
  "language_info": {
   "codemirror_mode": {
    "name": "ipython",
    "version": 3
   },
   "file_extension": ".py",
   "mimetype": "text/x-python",
   "name": "python",
   "nbconvert_exporter": "python",
   "pygments_lexer": "ipython3",
   "version": "3.7.4"
  }
 },
 "nbformat": 4,
 "nbformat_minor": 2
}
