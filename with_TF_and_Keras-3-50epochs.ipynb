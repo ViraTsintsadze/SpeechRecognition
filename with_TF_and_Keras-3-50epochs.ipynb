{
 "cells": [
  {
   "cell_type": "code",
   "execution_count": 1,
   "metadata": {},
   "outputs": [
    {
     "name": "stderr",
     "output_type": "stream",
     "text": [
      "Using TensorFlow backend.\n"
     ]
    }
   ],
   "source": [
    "import numpy as np\n",
    "import matplotlib.pyplot as plt\n",
    "import os\n",
    "import cv2\n",
    "from tqdm import tqdm\n",
    "from shutil import copy\n",
    "import random\n",
    "\n",
    "import tensorflow as tf\n",
    "#from tensorflow.keras.datasets import cifar10\n",
    "from tensorflow.keras.preprocessing.image import ImageDataGenerator\n",
    "from tensorflow.keras.models import Sequential\n",
    "from tensorflow.keras.layers import Dense, Dropout, Activation, Flatten\n",
    "from tensorflow.keras.layers import Conv2D, MaxPooling2D\n",
    "from shutil import copy\n",
    "from shutil import rmtree\n",
    "\n",
    "from keras.preprocessing import image"
   ]
  },
  {
   "cell_type": "code",
   "execution_count": 2,
   "metadata": {},
   "outputs": [],
   "source": [
    "#puts files with numbers in number-named folders\n",
    "def folder_putter(path, Num):\n",
    "    Num = str(Num)\n",
    "    #check is /on the end of path \n",
    "    if (path[:-2]!='/'): path = path+'/'\n",
    "    #check is folder exists, if not - create\n",
    "    if (os.path.isdir(path+Num)==0):\n",
    "        os.mkdir(path+Num)\n",
    "    #find files starting that number and copy it in their folder\n",
    "    filelist = os.listdir(path)\n",
    "    for file in filelist:\n",
    "        if (separ_number_from_filename(file)==Num) and os.path.isfile(path+Num+'/'+file)==0 and file.endswith(\".png\"):\n",
    "            copy(path+file, path+Num+'/'+file)\n",
    "    return 0\n",
    "\n",
    "\n",
    "def separ_number_from_filename(filename_string):\n",
    "    pos = len(filename_string)\n",
    "    for i in range(len(filename_string)):\n",
    "        if not filename_string[i].isdigit():\n",
    "            pos = i\n",
    "            break\n",
    "    return str(int(filename_string[:pos])) \n"
   ]
  },
  {
   "cell_type": "markdown",
   "metadata": {},
   "source": [
    "this code below doesn't need any previous, because it takes images from directory, opens and resize them with *ImageDataGenerator*\n",
    "But it does need files in the \"categofy_name\" folders"
   ]
  },
  {
   "cell_type": "markdown",
   "metadata": {},
   "source": [
    "Need a splitter function for: getting the list of files, splitting them, putting files in \"training\" and \"validation\" folders, and  \"categofy_name\" folders "
   ]
  },
  {
   "cell_type": "code",
   "execution_count": 3,
   "metadata": {},
   "outputs": [],
   "source": [
    "#function for: \n",
    "    #getting the list of files, \n",
    "    #splitting them, \n",
    "    #putting files in \"training\" and \"validation\" folders, and \"categofy_name\" folders \n",
    "\n",
    "def splitter (Original_Dir, split_ratio, categories_Num):\n",
    "\n",
    "\n",
    "    type_of_data_files = '.png'\n",
    "\n",
    "    filelist = []\n",
    "    for i in os.listdir(Original_Dir):\n",
    "        if i.endswith(type_of_data_files):\n",
    "            filelist.append(i)\n",
    "\n",
    "    categories_Num = 12\n",
    "    #os.path.join(Original_Dir)\n",
    "    N_files = len(filelist)\n",
    "    num_training=int(split_ratio*N_files)\n",
    "\n",
    "    #shuffling filelist\n",
    "    random.shuffle(filelist)\n",
    "    filelist_training = filelist[:num_training]\n",
    "    filelist_validation = filelist[num_training:]\n",
    "\n",
    "    #check is \"training\" and \"validation\" folder exists, if not - create\n",
    "    training_dir = os.path.join(Original_Dir, 'training')\n",
    "    validation_dir = os.path.join(Original_Dir, 'validation')\n",
    "\n",
    "    if (os.path.isdir(training_dir) ==True):\n",
    "        rmtree(training_dir) # if exists, deliting the old training folder\n",
    "    if (os.path.isdir(validation_dir) ==True):\n",
    "        rmtree(validation_dir) #deliting the old validation folder\n",
    "    os.mkdir(training_dir) #making new empty\n",
    "    os.mkdir(validation_dir)\n",
    "\n",
    "    #for each file in filelist_training, put files in their folders\n",
    "    DIR = training_dir\n",
    "    for f in filelist_training:\n",
    "        #what's it's spoken number?\n",
    "        num = separ_number_from_filename(f)\n",
    "        num_folder = os.path.join(DIR, num)\n",
    "        #if folder for spoken number doesn't exist, make it\n",
    "        if (os.path.isdir(num_folder) ==0):\n",
    "            os.mkdir(num_folder)\n",
    "\n",
    "        copy(os.path.join(Original_Dir, f) #copy from\n",
    "            , os.path.join(DIR,num,f))       #copy to\n",
    "\n",
    "    #now for validation    \n",
    "    #for each file in filelist_validation, put files in their folders\n",
    "    DIR = validation_dir\n",
    "    for f in filelist_validation:\n",
    "        #what's it's spoken number?\n",
    "        num = separ_number_from_filename(f)\n",
    "        num_folder = os.path.join(DIR, num)\n",
    "        #if folder for spoken number doesn't exist, make it\n",
    "        if (os.path.isdir(num_folder) ==0):\n",
    "            os.mkdir(num_folder)\n",
    "\n",
    "        copy(os.path.join(Original_Dir, f), os.path.join(DIR,num,f))      \n",
    "\n",
    "Original_Dir = 'C:/Users/verat/Desktop/DS_MeetUp/SpeechRecognition/Spec_n_TimeAmpl1'\n",
    "training_dir = os.path.join(Original_Dir, 'training')\n",
    "validation_dir = os.path.join(Original_Dir, 'validation')\n",
    "\n",
    "split_ratio = 0.9\n",
    "splitter (Original_Dir, split_ratio, categories_Num=13)\n"
   ]
  },
  {
   "cell_type": "markdown",
   "metadata": {},
   "source": [
    "making Batches with ImageDataGenerator "
   ]
  },
  {
   "cell_type": "code",
   "execution_count": 4,
   "metadata": {},
   "outputs": [
    {
     "name": "stdout",
     "output_type": "stream",
     "text": [
      "Found 628 images belonging to 13 classes.\n",
      "Found 70 images belonging to 13 classes.\n"
     ]
    }
   ],
   "source": [
    "from keras_preprocessing import image\n",
    "from keras_preprocessing.image import ImageDataGenerator\n",
    "\n",
    "#TRAINING DATA\n",
    "training_datagen = ImageDataGenerator(\n",
    "      rescale = 1./255,\n",
    "\t  rotation_range=0,\n",
    "      width_shift_range=0.0,\n",
    "      height_shift_range=0.0,\n",
    "      shear_range=0.2,\n",
    "      zoom_range=0.2,\n",
    "      horizontal_flip=False,\n",
    "      fill_mode='nearest')\n",
    "\n",
    "train_generator = training_datagen.flow_from_directory(\n",
    "\ttraining_dir,\n",
    "\ttarget_size=(200,200),\n",
    "\tclass_mode='categorical'\n",
    ")\n",
    "\n",
    "#VALIDATION DATA\n",
    "validation_datagen = ImageDataGenerator(rescale = 1./255)\n",
    "validation_generator = validation_datagen.flow_from_directory(\n",
    "\tvalidation_dir,\n",
    "\ttarget_size=(200,200),\n",
    "\tclass_mode='categorical'\n",
    ")\n"
   ]
  },
  {
   "cell_type": "markdown",
   "metadata": {},
   "source": [
    "Next part - building the model"
   ]
  },
  {
   "cell_type": "code",
   "execution_count": 5,
   "metadata": {},
   "outputs": [
    {
     "name": "stdout",
     "output_type": "stream",
     "text": [
      "Model: \"sequential\"\n",
      "_________________________________________________________________\n",
      "Layer (type)                 Output Shape              Param #   \n",
      "=================================================================\n",
      "conv2d (Conv2D)              (None, 198, 198, 64)      1792      \n",
      "_________________________________________________________________\n",
      "max_pooling2d (MaxPooling2D) (None, 99, 99, 64)        0         \n",
      "_________________________________________________________________\n",
      "conv2d_1 (Conv2D)            (None, 98, 98, 64)        16448     \n",
      "_________________________________________________________________\n",
      "max_pooling2d_1 (MaxPooling2 (None, 49, 49, 64)        0         \n",
      "_________________________________________________________________\n",
      "conv2d_2 (Conv2D)            (None, 47, 47, 128)       73856     \n",
      "_________________________________________________________________\n",
      "max_pooling2d_2 (MaxPooling2 (None, 23, 23, 128)       0         \n",
      "_________________________________________________________________\n",
      "conv2d_3 (Conv2D)            (None, 21, 21, 128)       147584    \n",
      "_________________________________________________________________\n",
      "max_pooling2d_3 (MaxPooling2 (None, 10, 10, 128)       0         \n",
      "_________________________________________________________________\n",
      "flatten (Flatten)            (None, 12800)             0         \n",
      "_________________________________________________________________\n",
      "dropout (Dropout)            (None, 12800)             0         \n",
      "_________________________________________________________________\n",
      "dense (Dense)                (None, 512)               6554112   \n",
      "_________________________________________________________________\n",
      "dense_1 (Dense)              (None, 13)                6669      \n",
      "=================================================================\n",
      "Total params: 6,800,461\n",
      "Trainable params: 6,800,461\n",
      "Non-trainable params: 0\n",
      "_________________________________________________________________\n",
      "Epoch 1/50\n",
      "20/20 [==============================] - ETA: 1:21 - loss: 2.5909 - accuracy: 0.0000e+ - ETA: 1:09 - loss: 3.5950 - accuracy: 0.0000e+ - ETA: 1:02 - loss: 3.2834 - accuracy: 0.0000e+ - ETA: 56s - loss: 3.1051 - accuracy: 0.0078     - ETA: 52s - loss: 3.0011 - accuracy: 0.018 - ETA: 46s - loss: 2.9273 - accuracy: 0.022 - ETA: 42s - loss: 2.8785 - accuracy: 0.028 - ETA: 38s - loss: 2.8391 - accuracy: 0.045 - ETA: 35s - loss: 2.8090 - accuracy: 0.050 - ETA: 31s - loss: 2.7840 - accuracy: 0.048 - ETA: 28s - loss: 2.7626 - accuracy: 0.061 - ETA: 25s - loss: 2.7418 - accuracy: 0.064 - ETA: 21s - loss: 2.7437 - accuracy: 0.064 - ETA: 18s - loss: 2.7307 - accuracy: 0.064 - ETA: 15s - loss: 2.7193 - accuracy: 0.062 - ETA: 12s - loss: 2.7085 - accuracy: 0.062 - ETA: 9s - loss: 2.6996 - accuracy: 0.065 - ETA: 6s - loss: 2.6920 - accuracy: 0.06 - ETA: 3s - loss: 2.6827 - accuracy: 0.07 - 65s 3s/step - loss: 2.6804 - accuracy: 0.0717 - val_loss: 2.5235 - val_accuracy: 0.1714\n",
      "Epoch 2/50\n",
      "20/20 [==============================] - ETA: 1:07 - loss: 2.5801 - accuracy: 0.09 - ETA: 1:03 - loss: 2.5519 - accuracy: 0.10 - ETA: 1:10 - loss: 2.5574 - accuracy: 0.09 - ETA: 1:04 - loss: 2.5511 - accuracy: 0.10 - ETA: 59s - loss: 2.5449 - accuracy: 0.1063 - ETA: 54s - loss: 2.5299 - accuracy: 0.130 - ETA: 49s - loss: 2.5164 - accuracy: 0.138 - ETA: 44s - loss: 2.5124 - accuracy: 0.136 - ETA: 40s - loss: 2.5028 - accuracy: 0.145 - ETA: 36s - loss: 2.4906 - accuracy: 0.156 - ETA: 32s - loss: 2.4882 - accuracy: 0.161 - ETA: 28s - loss: 2.4715 - accuracy: 0.171 - ETA: 24s - loss: 2.4720 - accuracy: 0.165 - ETA: 20s - loss: 2.4649 - accuracy: 0.165 - ETA: 17s - loss: 2.4596 - accuracy: 0.168 - ETA: 13s - loss: 2.4478 - accuracy: 0.172 - ETA: 10s - loss: 2.4395 - accuracy: 0.172 - ETA: 6s - loss: 2.4233 - accuracy: 0.179 - ETA: 3s - loss: 2.4065 - accuracy: 0.18 - 70s 3s/step - loss: 2.3945 - accuracy: 0.1831 - val_loss: 2.0515 - val_accuracy: 0.2571\n",
      "Epoch 3/50\n",
      "20/20 [==============================] - ETA: 1:05 - loss: 2.1083 - accuracy: 0.25 - ETA: 1:02 - loss: 3.1788 - accuracy: 0.18 - ETA: 58s - loss: 2.9125 - accuracy: 0.1667 - ETA: 54s - loss: 2.7316 - accuracy: 0.171 - ETA: 46s - loss: 2.6158 - accuracy: 0.168 - ETA: 43s - loss: 2.5500 - accuracy: 0.177 - ETA: 40s - loss: 2.4744 - accuracy: 0.198 - ETA: 37s - loss: 2.4141 - accuracy: 0.213 - ETA: 34s - loss: 2.3646 - accuracy: 0.221 - ETA: 31s - loss: 2.3515 - accuracy: 0.217 - ETA: 28s - loss: 2.3156 - accuracy: 0.232 - ETA: 25s - loss: 2.2941 - accuracy: 0.236 - ETA: 21s - loss: 2.2856 - accuracy: 0.240 - ETA: 18s - loss: 2.2643 - accuracy: 0.254 - ETA: 15s - loss: 2.2421 - accuracy: 0.265 - ETA: 12s - loss: 2.2560 - accuracy: 0.256 - ETA: 9s - loss: 2.2492 - accuracy: 0.253 - ETA: 6s - loss: 2.2375 - accuracy: 0.26 - ETA: 3s - loss: 2.2180 - accuracy: 0.26 - 65s 3s/step - loss: 2.2115 - accuracy: 0.2659 - val_loss: 1.8257 - val_accuracy: 0.3000\n",
      "Epoch 4/50\n",
      "20/20 [==============================] - ETA: 1:03 - loss: 1.6968 - accuracy: 0.50 - ETA: 1:00 - loss: 1.7152 - accuracy: 0.48 - ETA: 56s - loss: 1.8790 - accuracy: 0.4062 - ETA: 52s - loss: 1.8762 - accuracy: 0.367 - ETA: 49s - loss: 1.8735 - accuracy: 0.350 - ETA: 47s - loss: 1.8358 - accuracy: 0.369 - ETA: 44s - loss: 1.8696 - accuracy: 0.357 - ETA: 42s - loss: 1.8545 - accuracy: 0.367 - ETA: 39s - loss: 1.8879 - accuracy: 0.357 - ETA: 36s - loss: 1.8953 - accuracy: 0.359 - ETA: 32s - loss: 1.8856 - accuracy: 0.358 - ETA: 29s - loss: 1.8685 - accuracy: 0.356 - ETA: 24s - loss: 1.8881 - accuracy: 0.354 - ETA: 21s - loss: 1.8826 - accuracy: 0.360 - ETA: 17s - loss: 1.8879 - accuracy: 0.350 - ETA: 13s - loss: 1.8953 - accuracy: 0.352 - ETA: 10s - loss: 1.8962 - accuracy: 0.355 - ETA: 6s - loss: 1.8836 - accuracy: 0.356 - ETA: 3s - loss: 1.8887 - accuracy: 0.35 - 72s 4s/step - loss: 1.8995 - accuracy: 0.3471 - val_loss: 1.6940 - val_accuracy: 0.4000\n",
      "Epoch 5/50\n",
      "20/20 [==============================] - ETA: 1:07 - loss: 1.6924 - accuracy: 0.50 - ETA: 1:05 - loss: 1.7781 - accuracy: 0.39 - ETA: 1:01 - loss: 1.7288 - accuracy: 0.39 - ETA: 57s - loss: 1.7199 - accuracy: 0.3828 - ETA: 52s - loss: 1.7021 - accuracy: 0.381 - ETA: 50s - loss: 1.6811 - accuracy: 0.390 - ETA: 47s - loss: 1.6907 - accuracy: 0.397 - ETA: 42s - loss: 1.6789 - accuracy: 0.402 - ETA: 39s - loss: 1.6612 - accuracy: 0.409 - ETA: 34s - loss: 1.6471 - accuracy: 0.428 - ETA: 31s - loss: 1.6299 - accuracy: 0.437 - ETA: 27s - loss: 1.6580 - accuracy: 0.432 - ETA: 23s - loss: 1.6730 - accuracy: 0.427 - ETA: 19s - loss: 1.6980 - accuracy: 0.422 - ETA: 16s - loss: 1.6983 - accuracy: 0.416 - ETA: 13s - loss: 1.7176 - accuracy: 0.406 - ETA: 9s - loss: 1.7310 - accuracy: 0.400 - ETA: 6s - loss: 1.7269 - accuracy: 0.40 - ETA: 3s - loss: 1.7033 - accuracy: 0.41 - 69s 3s/step - loss: 1.6893 - accuracy: 0.4172 - val_loss: 1.8663 - val_accuracy: 0.3286\n",
      "Epoch 6/50\n",
      "20/20 [==============================] - ETA: 1:06 - loss: 1.6172 - accuracy: 0.46 - ETA: 1:02 - loss: 1.7415 - accuracy: 0.42 - ETA: 57s - loss: 1.9566 - accuracy: 0.3646 - ETA: 49s - loss: 1.8489 - accuracy: 0.387 - ETA: 46s - loss: 1.9037 - accuracy: 0.378 - ETA: 43s - loss: 1.8608 - accuracy: 0.388 - ETA: 40s - loss: 1.8140 - accuracy: 0.396 - ETA: 37s - loss: 1.7616 - accuracy: 0.413 - ETA: 34s - loss: 1.7110 - accuracy: 0.423 - ETA: 31s - loss: 1.7150 - accuracy: 0.425 - ETA: 28s - loss: 1.7136 - accuracy: 0.420 - ETA: 25s - loss: 1.6933 - accuracy: 0.419 - ETA: 22s - loss: 1.6674 - accuracy: 0.423 - ETA: 19s - loss: 1.6498 - accuracy: 0.431 - ETA: 16s - loss: 1.6422 - accuracy: 0.431 - ETA: 13s - loss: 1.6269 - accuracy: 0.438 - ETA: 10s - loss: 1.6299 - accuracy: 0.439 - ETA: 6s - loss: 1.6140 - accuracy: 0.439 - ETA: 3s - loss: 1.6123 - accuracy: 0.44 - 70s 3s/step - loss: 1.5951 - accuracy: 0.4506 - val_loss: 1.7016 - val_accuracy: 0.4571\n",
      "Epoch 7/50\n"
     ]
    },
    {
     "name": "stdout",
     "output_type": "stream",
     "text": [
      "20/20 [==============================] - ETA: 1:05 - loss: 1.1258 - accuracy: 0.62 - ETA: 1:02 - loss: 1.2964 - accuracy: 0.59 - ETA: 58s - loss: 1.3026 - accuracy: 0.6042 - ETA: 55s - loss: 1.3440 - accuracy: 0.585 - ETA: 51s - loss: 1.3448 - accuracy: 0.575 - ETA: 47s - loss: 1.3961 - accuracy: 0.562 - ETA: 44s - loss: 1.4046 - accuracy: 0.562 - ETA: 40s - loss: 1.3583 - accuracy: 0.578 - ETA: 36s - loss: 1.3936 - accuracy: 0.548 - ETA: 33s - loss: 1.4624 - accuracy: 0.525 - ETA: 29s - loss: 1.4692 - accuracy: 0.528 - ETA: 25s - loss: 1.4744 - accuracy: 0.521 - ETA: 22s - loss: 1.4925 - accuracy: 0.517 - ETA: 18s - loss: 1.4973 - accuracy: 0.522 - ETA: 15s - loss: 1.4843 - accuracy: 0.527 - ETA: 12s - loss: 1.4580 - accuracy: 0.532 - ETA: 9s - loss: 1.4464 - accuracy: 0.545 - ETA: 6s - loss: 1.4694 - accuracy: 0.54 - ETA: 3s - loss: 1.4684 - accuracy: 0.54 - 65s 3s/step - loss: 1.4548 - accuracy: 0.5478 - val_loss: 1.6759 - val_accuracy: 0.5000\n",
      "Epoch 8/50\n",
      "20/20 [==============================] - ETA: 1:04 - loss: 1.3399 - accuracy: 0.37 - ETA: 59s - loss: 1.4217 - accuracy: 0.4375 - ETA: 56s - loss: 1.3695 - accuracy: 0.500 - ETA: 52s - loss: 1.3664 - accuracy: 0.500 - ETA: 48s - loss: 1.4265 - accuracy: 0.468 - ETA: 45s - loss: 1.4318 - accuracy: 0.474 - ETA: 41s - loss: 1.4211 - accuracy: 0.473 - ETA: 38s - loss: 1.3891 - accuracy: 0.476 - ETA: 35s - loss: 1.4363 - accuracy: 0.465 - ETA: 31s - loss: 1.4628 - accuracy: 0.459 - ETA: 28s - loss: 1.4401 - accuracy: 0.468 - ETA: 25s - loss: 1.4118 - accuracy: 0.487 - ETA: 21s - loss: 1.3975 - accuracy: 0.492 - ETA: 18s - loss: 1.3706 - accuracy: 0.497 - ETA: 15s - loss: 1.3582 - accuracy: 0.508 - ETA: 12s - loss: 1.3347 - accuracy: 0.520 - ETA: 9s - loss: 1.3157 - accuracy: 0.526 - ETA: 6s - loss: 1.3466 - accuracy: 0.51 - ETA: 3s - loss: 1.3346 - accuracy: 0.51 - 64s 3s/step - loss: 1.3354 - accuracy: 0.5223 - val_loss: 1.4672 - val_accuracy: 0.5286\n",
      "Epoch 9/50\n",
      "20/20 [==============================] - ETA: 1:06 - loss: 1.3568 - accuracy: 0.46 - ETA: 1:01 - loss: 1.1761 - accuracy: 0.54 - ETA: 57s - loss: 1.2492 - accuracy: 0.5000 - ETA: 53s - loss: 1.1852 - accuracy: 0.531 - ETA: 49s - loss: 1.1715 - accuracy: 0.537 - ETA: 45s - loss: 1.1549 - accuracy: 0.552 - ETA: 42s - loss: 1.1287 - accuracy: 0.575 - ETA: 38s - loss: 1.1277 - accuracy: 0.589 - ETA: 35s - loss: 1.1423 - accuracy: 0.593 - ETA: 32s - loss: 1.1371 - accuracy: 0.600 - ETA: 29s - loss: 1.1570 - accuracy: 0.593 - ETA: 26s - loss: 1.1548 - accuracy: 0.593 - ETA: 22s - loss: 1.1522 - accuracy: 0.599 - ETA: 18s - loss: 1.1549 - accuracy: 0.603 - ETA: 15s - loss: 1.1676 - accuracy: 0.604 - ETA: 12s - loss: 1.1469 - accuracy: 0.614 - ETA: 9s - loss: 1.1483 - accuracy: 0.614 - ETA: 6s - loss: 1.1879 - accuracy: 0.60 - ETA: 3s - loss: 1.1999 - accuracy: 0.60 - 65s 3s/step - loss: 1.2092 - accuracy: 0.5971 - val_loss: 1.3190 - val_accuracy: 0.4143\n",
      "Epoch 10/50\n",
      "20/20 [==============================] - ETA: 1:05 - loss: 1.1372 - accuracy: 0.53 - ETA: 1:03 - loss: 1.0179 - accuracy: 0.56 - ETA: 58s - loss: 1.1855 - accuracy: 0.5521 - ETA: 53s - loss: 1.2440 - accuracy: 0.515 - ETA: 49s - loss: 1.1839 - accuracy: 0.512 - ETA: 43s - loss: 1.0946 - accuracy: 0.533 - ETA: 40s - loss: 1.0500 - accuracy: 0.566 - ETA: 37s - loss: 1.0471 - accuracy: 0.569 - ETA: 34s - loss: 1.0599 - accuracy: 0.576 - ETA: 30s - loss: 1.0519 - accuracy: 0.590 - ETA: 27s - loss: 1.0554 - accuracy: 0.591 - ETA: 24s - loss: 1.0509 - accuracy: 0.586 - ETA: 21s - loss: 1.0364 - accuracy: 0.596 - ETA: 18s - loss: 1.0150 - accuracy: 0.605 - ETA: 15s - loss: 1.0410 - accuracy: 0.602 - ETA: 12s - loss: 1.0588 - accuracy: 0.592 - ETA: 9s - loss: 1.0622 - accuracy: 0.594 - ETA: 6s - loss: 1.0621 - accuracy: 0.59 - ETA: 3s - loss: 1.0529 - accuracy: 0.60 - 63s 3s/step - loss: 1.0537 - accuracy: 0.6051 - val_loss: 1.2163 - val_accuracy: 0.5143\n",
      "Epoch 11/50\n",
      "20/20 [==============================] - ETA: 1:03 - loss: 0.9666 - accuracy: 0.71 - ETA: 59s - loss: 0.8713 - accuracy: 0.7500 - ETA: 56s - loss: 0.8847 - accuracy: 0.729 - ETA: 51s - loss: 0.9031 - accuracy: 0.726 - ETA: 48s - loss: 0.8381 - accuracy: 0.743 - ETA: 44s - loss: 0.8643 - accuracy: 0.739 - ETA: 41s - loss: 0.8999 - accuracy: 0.727 - ETA: 37s - loss: 0.9173 - accuracy: 0.714 - ETA: 34s - loss: 0.9129 - accuracy: 0.722 - ETA: 31s - loss: 0.9302 - accuracy: 0.712 - ETA: 28s - loss: 0.9156 - accuracy: 0.710 - ETA: 24s - loss: 0.9210 - accuracy: 0.695 - ETA: 21s - loss: 0.9288 - accuracy: 0.698 - ETA: 18s - loss: 0.9346 - accuracy: 0.695 - ETA: 14s - loss: 0.9273 - accuracy: 0.696 - ETA: 11s - loss: 0.9177 - accuracy: 0.696 - ETA: 8s - loss: 0.9084 - accuracy: 0.701 - ETA: 5s - loss: 0.9089 - accuracy: 0.70 - ETA: 2s - loss: 0.9097 - accuracy: 0.70 - 62s 3s/step - loss: 0.9098 - accuracy: 0.7070 - val_loss: 1.6209 - val_accuracy: 0.6000\n",
      "Epoch 12/50\n",
      "20/20 [==============================] - ETA: 1:02 - loss: 0.6930 - accuracy: 0.78 - ETA: 49s - loss: 0.7822 - accuracy: 0.7500 - ETA: 49s - loss: 0.7698 - accuracy: 0.761 - ETA: 47s - loss: 0.7637 - accuracy: 0.750 - ETA: 44s - loss: 0.8733 - accuracy: 0.716 - ETA: 42s - loss: 0.9108 - accuracy: 0.722 - ETA: 39s - loss: 0.9104 - accuracy: 0.726 - ETA: 36s - loss: 0.9135 - accuracy: 0.717 - ETA: 33s - loss: 0.9093 - accuracy: 0.713 - ETA: 30s - loss: 0.8940 - accuracy: 0.720 - ETA: 27s - loss: 0.8736 - accuracy: 0.723 - ETA: 24s - loss: 0.8659 - accuracy: 0.717 - ETA: 21s - loss: 0.8665 - accuracy: 0.717 - ETA: 17s - loss: 0.8905 - accuracy: 0.713 - ETA: 14s - loss: 0.8956 - accuracy: 0.703 - ETA: 11s - loss: 0.8969 - accuracy: 0.704 - ETA: 8s - loss: 0.8900 - accuracy: 0.701 - ETA: 5s - loss: 0.8915 - accuracy: 0.69 - ETA: 2s - loss: 0.8827 - accuracy: 0.69 - 63s 3s/step - loss: 0.9008 - accuracy: 0.6911 - val_loss: 1.1095 - val_accuracy: 0.5857\n",
      "Epoch 13/50\n",
      "20/20 [==============================] - ETA: 1:02 - loss: 0.7980 - accuracy: 0.78 - ETA: 59s - loss: 0.7909 - accuracy: 0.7500 - ETA: 55s - loss: 0.7825 - accuracy: 0.739 - ETA: 51s - loss: 0.7777 - accuracy: 0.710 - ETA: 48s - loss: 0.7878 - accuracy: 0.706 - ETA: 44s - loss: 0.7805 - accuracy: 0.729 - ETA: 41s - loss: 0.7884 - accuracy: 0.714 - ETA: 37s - loss: 0.7900 - accuracy: 0.722 - ETA: 34s - loss: 0.7938 - accuracy: 0.711 - ETA: 31s - loss: 0.8262 - accuracy: 0.696 - ETA: 27s - loss: 0.8268 - accuracy: 0.701 - ETA: 24s - loss: 0.8223 - accuracy: 0.705 - ETA: 21s - loss: 0.8228 - accuracy: 0.706 - ETA: 18s - loss: 0.8171 - accuracy: 0.709 - ETA: 15s - loss: 0.8238 - accuracy: 0.712 - ETA: 12s - loss: 0.8151 - accuracy: 0.714 - ETA: 9s - loss: 0.8017 - accuracy: 0.716 - ETA: 6s - loss: 0.8091 - accuracy: 0.71 - ETA: 3s - loss: 0.8050 - accuracy: 0.72 - 62s 3s/step - loss: 0.7991 - accuracy: 0.7182 - val_loss: 2.0271 - val_accuracy: 0.5286\n",
      "Epoch 14/50\n",
      "20/20 [==============================] - ETA: 1:03 - loss: 0.7758 - accuracy: 0.75 - ETA: 59s - loss: 0.7147 - accuracy: 0.7656 - ETA: 56s - loss: 0.7443 - accuracy: 0.739 - ETA: 52s - loss: 0.6378 - accuracy: 0.789 - ETA: 48s - loss: 0.5939 - accuracy: 0.793 - ETA: 44s - loss: 0.5606 - accuracy: 0.817 - ETA: 39s - loss: 0.5875 - accuracy: 0.816 - ETA: 36s - loss: 0.6729 - accuracy: 0.799 - ETA: 33s - loss: 0.6650 - accuracy: 0.797 - ETA: 30s - loss: 0.6757 - accuracy: 0.792 - ETA: 27s - loss: 0.6843 - accuracy: 0.791 - ETA: 24s - loss: 0.6867 - accuracy: 0.782 - ETA: 21s - loss: 0.6923 - accuracy: 0.774 - ETA: 18s - loss: 0.7278 - accuracy: 0.766 - ETA: 15s - loss: 0.7321 - accuracy: 0.765 - ETA: 12s - loss: 0.7359 - accuracy: 0.766 - ETA: 9s - loss: 0.7401 - accuracy: 0.761 - ETA: 6s - loss: 0.7251 - accuracy: 0.76 - ETA: 3s - loss: 0.7213 - accuracy: 0.77 - 63s 3s/step - loss: 0.7121 - accuracy: 0.7723 - val_loss: 1.3649 - val_accuracy: 0.5857\n",
      "Epoch 15/50\n"
     ]
    },
    {
     "name": "stdout",
     "output_type": "stream",
     "text": [
      "20/20 [==============================] - ETA: 1:03 - loss: 0.3042 - accuracy: 0.93 - ETA: 59s - loss: 0.5454 - accuracy: 0.8438 - ETA: 55s - loss: 0.5178 - accuracy: 0.833 - ETA: 51s - loss: 0.6222 - accuracy: 0.796 - ETA: 48s - loss: 0.6318 - accuracy: 0.781 - ETA: 44s - loss: 0.6461 - accuracy: 0.776 - ETA: 41s - loss: 0.5931 - accuracy: 0.799 - ETA: 38s - loss: 0.5635 - accuracy: 0.808 - ETA: 34s - loss: 0.5768 - accuracy: 0.805 - ETA: 30s - loss: 0.6097 - accuracy: 0.798 - ETA: 27s - loss: 0.6223 - accuracy: 0.797 - ETA: 24s - loss: 0.6038 - accuracy: 0.803 - ETA: 21s - loss: 0.6114 - accuracy: 0.799 - ETA: 18s - loss: 0.6327 - accuracy: 0.795 - ETA: 15s - loss: 0.6254 - accuracy: 0.794 - ETA: 12s - loss: 0.6226 - accuracy: 0.794 - ETA: 9s - loss: 0.6265 - accuracy: 0.789 - ETA: 6s - loss: 0.6225 - accuracy: 0.79 - ETA: 3s - loss: 0.6209 - accuracy: 0.79 - 63s 3s/step - loss: 0.6443 - accuracy: 0.7882 - val_loss: 1.3018 - val_accuracy: 0.5143\n",
      "Epoch 16/50\n",
      "20/20 [==============================] - ETA: 1:02 - loss: 0.6256 - accuracy: 0.84 - ETA: 59s - loss: 0.5176 - accuracy: 0.8750 - ETA: 55s - loss: 0.4737 - accuracy: 0.864 - ETA: 51s - loss: 0.4359 - accuracy: 0.867 - ETA: 44s - loss: 0.5120 - accuracy: 0.864 - ETA: 42s - loss: 0.5087 - accuracy: 0.855 - ETA: 39s - loss: 0.5084 - accuracy: 0.844 - ETA: 36s - loss: 0.5073 - accuracy: 0.848 - ETA: 33s - loss: 0.4961 - accuracy: 0.844 - ETA: 30s - loss: 0.4885 - accuracy: 0.837 - ETA: 27s - loss: 0.5108 - accuracy: 0.832 - ETA: 24s - loss: 0.5476 - accuracy: 0.817 - ETA: 21s - loss: 0.5334 - accuracy: 0.821 - ETA: 18s - loss: 0.5328 - accuracy: 0.821 - ETA: 15s - loss: 0.5570 - accuracy: 0.818 - ETA: 12s - loss: 0.5682 - accuracy: 0.808 - ETA: 9s - loss: 0.5621 - accuracy: 0.810 - ETA: 5s - loss: 0.5634 - accuracy: 0.80 - ETA: 2s - loss: 0.5713 - accuracy: 0.80 - 63s 3s/step - loss: 0.5856 - accuracy: 0.7994 - val_loss: 1.4805 - val_accuracy: 0.5143\n",
      "Epoch 17/50\n",
      "20/20 [==============================] - ETA: 1:02 - loss: 0.6438 - accuracy: 0.84 - ETA: 59s - loss: 0.4638 - accuracy: 0.8594 - ETA: 55s - loss: 0.4554 - accuracy: 0.864 - ETA: 51s - loss: 0.4542 - accuracy: 0.851 - ETA: 48s - loss: 0.5467 - accuracy: 0.831 - ETA: 44s - loss: 0.5163 - accuracy: 0.843 - ETA: 41s - loss: 0.5230 - accuracy: 0.834 - ETA: 36s - loss: 0.5044 - accuracy: 0.840 - ETA: 33s - loss: 0.5882 - accuracy: 0.815 - ETA: 30s - loss: 0.5773 - accuracy: 0.821 - ETA: 27s - loss: 0.5685 - accuracy: 0.820 - ETA: 24s - loss: 0.5719 - accuracy: 0.819 - ETA: 21s - loss: 0.5603 - accuracy: 0.824 - ETA: 17s - loss: 0.5908 - accuracy: 0.814 - ETA: 14s - loss: 0.5770 - accuracy: 0.818 - ETA: 11s - loss: 0.5916 - accuracy: 0.812 - ETA: 8s - loss: 0.5805 - accuracy: 0.813 - ETA: 5s - loss: 0.5690 - accuracy: 0.81 - ETA: 2s - loss: 0.5592 - accuracy: 0.82 - 62s 3s/step - loss: 0.5543 - accuracy: 0.8217 - val_loss: 1.7505 - val_accuracy: 0.5143\n",
      "Epoch 18/50\n",
      "20/20 [==============================] - ETA: 1:03 - loss: 0.4918 - accuracy: 0.81 - ETA: 59s - loss: 0.4805 - accuracy: 0.8438 - ETA: 49s - loss: 0.4678 - accuracy: 0.833 - ETA: 47s - loss: 0.5376 - accuracy: 0.819 - ETA: 44s - loss: 0.5271 - accuracy: 0.831 - ETA: 42s - loss: 0.5265 - accuracy: 0.822 - ETA: 39s - loss: 0.5416 - accuracy: 0.816 - ETA: 36s - loss: 0.5385 - accuracy: 0.807 - ETA: 33s - loss: 0.5549 - accuracy: 0.808 - ETA: 30s - loss: 0.5492 - accuracy: 0.801 - ETA: 27s - loss: 0.5340 - accuracy: 0.802 - ETA: 24s - loss: 0.5041 - accuracy: 0.819 - ETA: 21s - loss: 0.4885 - accuracy: 0.824 - ETA: 18s - loss: 0.5014 - accuracy: 0.816 - ETA: 15s - loss: 0.4984 - accuracy: 0.820 - ETA: 11s - loss: 0.5044 - accuracy: 0.816 - ETA: 8s - loss: 0.5273 - accuracy: 0.808 - ETA: 6s - loss: 0.5308 - accuracy: 0.81 - ETA: 3s - loss: 0.5272 - accuracy: 0.81 - 63s 3s/step - loss: 0.5326 - accuracy: 0.8169 - val_loss: 1.7003 - val_accuracy: 0.5714\n",
      "Epoch 19/50\n",
      "20/20 [==============================] - ETA: 1:02 - loss: 0.4778 - accuracy: 0.87 - ETA: 59s - loss: 0.4350 - accuracy: 0.8750 - ETA: 55s - loss: 0.4355 - accuracy: 0.854 - ETA: 51s - loss: 0.4026 - accuracy: 0.859 - ETA: 48s - loss: 0.3873 - accuracy: 0.875 - ETA: 44s - loss: 0.4032 - accuracy: 0.869 - ETA: 41s - loss: 0.4053 - accuracy: 0.870 - ETA: 38s - loss: 0.4027 - accuracy: 0.867 - ETA: 35s - loss: 0.3735 - accuracy: 0.878 - ETA: 31s - loss: 0.3666 - accuracy: 0.881 - ETA: 28s - loss: 0.3481 - accuracy: 0.889 - ETA: 25s - loss: 0.3695 - accuracy: 0.882 - ETA: 21s - loss: 0.3602 - accuracy: 0.886 - ETA: 18s - loss: 0.3564 - accuracy: 0.887 - ETA: 15s - loss: 0.3633 - accuracy: 0.886 - ETA: 12s - loss: 0.3949 - accuracy: 0.874 - ETA: 9s - loss: 0.4166 - accuracy: 0.860 - ETA: 6s - loss: 0.4389 - accuracy: 0.85 - ETA: 3s - loss: 0.4350 - accuracy: 0.85 - 63s 3s/step - loss: 0.4363 - accuracy: 0.8551 - val_loss: 1.7047 - val_accuracy: 0.5857\n",
      "Epoch 20/50\n",
      "20/20 [==============================] - ETA: 1:02 - loss: 0.3076 - accuracy: 0.93 - ETA: 49s - loss: 0.3843 - accuracy: 0.9231 - ETA: 49s - loss: 0.4323 - accuracy: 0.892 - ETA: 47s - loss: 0.3899 - accuracy: 0.905 - ETA: 44s - loss: 0.3556 - accuracy: 0.898 - ETA: 42s - loss: 0.3650 - accuracy: 0.883 - ETA: 39s - loss: 0.3454 - accuracy: 0.891 - ETA: 36s - loss: 0.3501 - accuracy: 0.889 - ETA: 33s - loss: 0.3474 - accuracy: 0.887 - ETA: 30s - loss: 0.3529 - accuracy: 0.889 - ETA: 27s - loss: 0.3662 - accuracy: 0.882 - ETA: 24s - loss: 0.3715 - accuracy: 0.876 - ETA: 21s - loss: 0.3608 - accuracy: 0.881 - ETA: 18s - loss: 0.3637 - accuracy: 0.876 - ETA: 14s - loss: 0.3574 - accuracy: 0.878 - ETA: 11s - loss: 0.3732 - accuracy: 0.876 - ETA: 8s - loss: 0.3920 - accuracy: 0.868 - ETA: 5s - loss: 0.3954 - accuracy: 0.86 - ETA: 2s - loss: 0.4107 - accuracy: 0.86 - 62s 3s/step - loss: 0.4259 - accuracy: 0.8583 - val_loss: 2.3315 - val_accuracy: 0.5571\n",
      "Epoch 21/50\n",
      "20/20 [==============================] - ETA: 1:03 - loss: 0.2556 - accuracy: 0.96 - ETA: 59s - loss: 0.3854 - accuracy: 0.8750 - ETA: 56s - loss: 0.3184 - accuracy: 0.895 - ETA: 51s - loss: 0.3050 - accuracy: 0.882 - ETA: 48s - loss: 0.3328 - accuracy: 0.881 - ETA: 44s - loss: 0.3217 - accuracy: 0.880 - ETA: 41s - loss: 0.3466 - accuracy: 0.870 - ETA: 37s - loss: 0.3653 - accuracy: 0.867 - ETA: 34s - loss: 0.3677 - accuracy: 0.871 - ETA: 31s - loss: 0.3714 - accuracy: 0.875 - ETA: 27s - loss: 0.3731 - accuracy: 0.869 - ETA: 24s - loss: 0.3719 - accuracy: 0.869 - ETA: 21s - loss: 0.3666 - accuracy: 0.875 - ETA: 18s - loss: 0.3794 - accuracy: 0.870 - ETA: 15s - loss: 0.3873 - accuracy: 0.864 - ETA: 12s - loss: 0.4171 - accuracy: 0.855 - ETA: 9s - loss: 0.4201 - accuracy: 0.852 - ETA: 6s - loss: 0.4269 - accuracy: 0.84 - ETA: 3s - loss: 0.4242 - accuracy: 0.85 - 62s 3s/step - loss: 0.4106 - accuracy: 0.8535 - val_loss: 1.5592 - val_accuracy: 0.5857\n",
      "Epoch 22/50\n",
      "20/20 [==============================] - ETA: 1:03 - loss: 0.2310 - accuracy: 0.90 - ETA: 49s - loss: 0.2053 - accuracy: 0.9231 - ETA: 50s - loss: 0.1833 - accuracy: 0.928 - ETA: 48s - loss: 0.1860 - accuracy: 0.931 - ETA: 45s - loss: 0.2209 - accuracy: 0.918 - ETA: 42s - loss: 0.2344 - accuracy: 0.916 - ETA: 39s - loss: 0.2172 - accuracy: 0.924 - ETA: 36s - loss: 0.2218 - accuracy: 0.926 - ETA: 33s - loss: 0.2260 - accuracy: 0.923 - ETA: 30s - loss: 0.2392 - accuracy: 0.912 - ETA: 27s - loss: 0.2831 - accuracy: 0.900 - ETA: 24s - loss: 0.2968 - accuracy: 0.889 - ETA: 21s - loss: 0.2948 - accuracy: 0.893 - ETA: 18s - loss: 0.3035 - accuracy: 0.887 - ETA: 15s - loss: 0.3044 - accuracy: 0.888 - ETA: 12s - loss: 0.3028 - accuracy: 0.892 - ETA: 9s - loss: 0.3102 - accuracy: 0.889 - ETA: 5s - loss: 0.3160 - accuracy: 0.88 - ETA: 2s - loss: 0.3242 - accuracy: 0.88 - 62s 3s/step - loss: 0.3260 - accuracy: 0.8854 - val_loss: 2.5696 - val_accuracy: 0.5143\n",
      "Epoch 23/50\n"
     ]
    },
    {
     "name": "stdout",
     "output_type": "stream",
     "text": [
      "20/20 [==============================] - ETA: 1:03 - loss: 0.3889 - accuracy: 0.84 - ETA: 49s - loss: 0.3238 - accuracy: 0.8462 - ETA: 50s - loss: 0.2747 - accuracy: 0.892 - ETA: 47s - loss: 0.3883 - accuracy: 0.879 - ETA: 44s - loss: 0.4508 - accuracy: 0.864 - ETA: 42s - loss: 0.4496 - accuracy: 0.855 - ETA: 39s - loss: 0.4308 - accuracy: 0.863 - ETA: 36s - loss: 0.4184 - accuracy: 0.868 - ETA: 33s - loss: 0.3904 - accuracy: 0.880 - ETA: 30s - loss: 0.3652 - accuracy: 0.892 - ETA: 27s - loss: 0.3441 - accuracy: 0.897 - ETA: 24s - loss: 0.3260 - accuracy: 0.905 - ETA: 20s - loss: 0.3283 - accuracy: 0.901 - ETA: 17s - loss: 0.3298 - accuracy: 0.903 - ETA: 14s - loss: 0.3311 - accuracy: 0.903 - ETA: 11s - loss: 0.3242 - accuracy: 0.904 - ETA: 8s - loss: 0.3270 - accuracy: 0.902 - ETA: 5s - loss: 0.3277 - accuracy: 0.89 - ETA: 2s - loss: 0.3411 - accuracy: 0.88 - 62s 3s/step - loss: 0.3419 - accuracy: 0.8869 - val_loss: 1.4970 - val_accuracy: 0.6000\n",
      "Epoch 24/50\n",
      "20/20 [==============================] - ETA: 1:03 - loss: 0.1760 - accuracy: 0.93 - ETA: 50s - loss: 0.1819 - accuracy: 0.9231 - ETA: 50s - loss: 0.2009 - accuracy: 0.916 - ETA: 48s - loss: 0.2806 - accuracy: 0.879 - ETA: 45s - loss: 0.3089 - accuracy: 0.878 - ETA: 42s - loss: 0.3237 - accuracy: 0.866 - ETA: 39s - loss: 0.4091 - accuracy: 0.858 - ETA: 36s - loss: 0.4198 - accuracy: 0.864 - ETA: 33s - loss: 0.3940 - accuracy: 0.869 - ETA: 30s - loss: 0.3973 - accuracy: 0.863 - ETA: 27s - loss: 0.3922 - accuracy: 0.861 - ETA: 24s - loss: 0.3719 - accuracy: 0.871 - ETA: 21s - loss: 0.3536 - accuracy: 0.876 - ETA: 18s - loss: 0.3527 - accuracy: 0.878 - ETA: 15s - loss: 0.3534 - accuracy: 0.878 - ETA: 12s - loss: 0.3463 - accuracy: 0.882 - ETA: 8s - loss: 0.3446 - accuracy: 0.881 - ETA: 5s - loss: 0.3332 - accuracy: 0.88 - ETA: 2s - loss: 0.3392 - accuracy: 0.88 - 63s 3s/step - loss: 0.3599 - accuracy: 0.8806 - val_loss: 1.3987 - val_accuracy: 0.6143\n",
      "Epoch 25/50\n",
      "20/20 [==============================] - ETA: 1:02 - loss: 0.6117 - accuracy: 0.84 - ETA: 59s - loss: 0.4374 - accuracy: 0.8906 - ETA: 55s - loss: 0.3932 - accuracy: 0.895 - ETA: 51s - loss: 0.3417 - accuracy: 0.898 - ETA: 47s - loss: 0.3074 - accuracy: 0.906 - ETA: 44s - loss: 0.3077 - accuracy: 0.901 - ETA: 41s - loss: 0.2987 - accuracy: 0.901 - ETA: 37s - loss: 0.2744 - accuracy: 0.906 - ETA: 34s - loss: 0.2549 - accuracy: 0.913 - ETA: 31s - loss: 0.2414 - accuracy: 0.918 - ETA: 27s - loss: 0.2502 - accuracy: 0.909 - ETA: 24s - loss: 0.2708 - accuracy: 0.903 - ETA: 21s - loss: 0.2659 - accuracy: 0.905 - ETA: 17s - loss: 0.2868 - accuracy: 0.896 - ETA: 14s - loss: 0.2958 - accuracy: 0.897 - ETA: 11s - loss: 0.3003 - accuracy: 0.896 - ETA: 8s - loss: 0.3085 - accuracy: 0.892 - ETA: 5s - loss: 0.3198 - accuracy: 0.89 - ETA: 2s - loss: 0.3184 - accuracy: 0.88 - 62s 3s/step - loss: 0.3153 - accuracy: 0.8901 - val_loss: 1.8567 - val_accuracy: 0.5714\n",
      "Epoch 26/50\n",
      "20/20 [==============================] - ETA: 1:02 - loss: 0.1965 - accuracy: 0.93 - ETA: 59s - loss: 0.1781 - accuracy: 0.9375 - ETA: 55s - loss: 0.2570 - accuracy: 0.927 - ETA: 51s - loss: 0.2050 - accuracy: 0.937 - ETA: 48s - loss: 0.2221 - accuracy: 0.931 - ETA: 44s - loss: 0.2143 - accuracy: 0.932 - ETA: 41s - loss: 0.2199 - accuracy: 0.933 - ETA: 38s - loss: 0.2196 - accuracy: 0.933 - ETA: 33s - loss: 0.2245 - accuracy: 0.927 - ETA: 30s - loss: 0.2157 - accuracy: 0.931 - ETA: 27s - loss: 0.2198 - accuracy: 0.929 - ETA: 24s - loss: 0.2281 - accuracy: 0.924 - ETA: 21s - loss: 0.2260 - accuracy: 0.928 - ETA: 18s - loss: 0.2286 - accuracy: 0.926 - ETA: 15s - loss: 0.2229 - accuracy: 0.929 - ETA: 12s - loss: 0.2351 - accuracy: 0.926 - ETA: 8s - loss: 0.2590 - accuracy: 0.915 - ETA: 5s - loss: 0.2550 - accuracy: 0.91 - ETA: 2s - loss: 0.2508 - accuracy: 0.91 - 62s 3s/step - loss: 0.2444 - accuracy: 0.9204 - val_loss: 2.3916 - val_accuracy: 0.5714\n",
      "Epoch 27/50\n",
      "20/20 [==============================] - ETA: 1:02 - loss: 0.1872 - accuracy: 0.93 - ETA: 59s - loss: 0.1770 - accuracy: 0.9375 - ETA: 55s - loss: 0.1661 - accuracy: 0.947 - ETA: 51s - loss: 0.1625 - accuracy: 0.953 - ETA: 47s - loss: 0.1679 - accuracy: 0.950 - ETA: 44s - loss: 0.1593 - accuracy: 0.947 - ETA: 41s - loss: 0.1397 - accuracy: 0.955 - ETA: 36s - loss: 0.1580 - accuracy: 0.950 - ETA: 33s - loss: 0.2038 - accuracy: 0.938 - ETA: 30s - loss: 0.2154 - accuracy: 0.935 - ETA: 27s - loss: 0.2210 - accuracy: 0.932 - ETA: 24s - loss: 0.2179 - accuracy: 0.930 - ETA: 20s - loss: 0.2166 - accuracy: 0.930 - ETA: 17s - loss: 0.2237 - accuracy: 0.928 - ETA: 14s - loss: 0.2308 - accuracy: 0.925 - ETA: 11s - loss: 0.2344 - accuracy: 0.924 - ETA: 8s - loss: 0.2401 - accuracy: 0.921 - ETA: 5s - loss: 0.2488 - accuracy: 0.91 - ETA: 2s - loss: 0.2471 - accuracy: 0.91 - 62s 3s/step - loss: 0.2437 - accuracy: 0.9204 - val_loss: 2.0878 - val_accuracy: 0.5571\n",
      "Epoch 28/50\n",
      "20/20 [==============================] - ETA: 1:03 - loss: 0.1097 - accuracy: 0.96 - ETA: 59s - loss: 0.1529 - accuracy: 0.9531 - ETA: 55s - loss: 0.1902 - accuracy: 0.937 - ETA: 51s - loss: 0.2083 - accuracy: 0.921 - ETA: 48s - loss: 0.2069 - accuracy: 0.931 - ETA: 44s - loss: 0.2297 - accuracy: 0.927 - ETA: 41s - loss: 0.2204 - accuracy: 0.933 - ETA: 37s - loss: 0.2120 - accuracy: 0.933 - ETA: 34s - loss: 0.2470 - accuracy: 0.920 - ETA: 31s - loss: 0.2416 - accuracy: 0.925 - ETA: 27s - loss: 0.2242 - accuracy: 0.931 - ETA: 24s - loss: 0.2221 - accuracy: 0.930 - ETA: 21s - loss: 0.2202 - accuracy: 0.928 - ETA: 17s - loss: 0.2165 - accuracy: 0.926 - ETA: 14s - loss: 0.2251 - accuracy: 0.925 - ETA: 11s - loss: 0.2309 - accuracy: 0.920 - ETA: 8s - loss: 0.2299 - accuracy: 0.921 - ETA: 5s - loss: 0.2260 - accuracy: 0.92 - ETA: 2s - loss: 0.2214 - accuracy: 0.92 - 62s 3s/step - loss: 0.2198 - accuracy: 0.9220 - val_loss: 1.5485 - val_accuracy: 0.5714\n",
      "Epoch 29/50\n",
      "20/20 [==============================] - ETA: 1:03 - loss: 0.1247 - accuracy: 0.96 - ETA: 59s - loss: 0.1607 - accuracy: 0.9375 - ETA: 55s - loss: 0.1727 - accuracy: 0.937 - ETA: 51s - loss: 0.1668 - accuracy: 0.937 - ETA: 47s - loss: 0.1949 - accuracy: 0.918 - ETA: 44s - loss: 0.1831 - accuracy: 0.927 - ETA: 41s - loss: 0.2058 - accuracy: 0.919 - ETA: 36s - loss: 0.1945 - accuracy: 0.922 - ETA: 33s - loss: 0.2259 - accuracy: 0.913 - ETA: 30s - loss: 0.2435 - accuracy: 0.902 - ETA: 27s - loss: 0.2745 - accuracy: 0.894 - ETA: 24s - loss: 0.2634 - accuracy: 0.897 - ETA: 20s - loss: 0.2497 - accuracy: 0.903 - ETA: 17s - loss: 0.2408 - accuracy: 0.908 - ETA: 14s - loss: 0.2360 - accuracy: 0.910 - ETA: 11s - loss: 0.2343 - accuracy: 0.914 - ETA: 8s - loss: 0.2465 - accuracy: 0.913 - ETA: 5s - loss: 0.2411 - accuracy: 0.91 - ETA: 2s - loss: 0.2361 - accuracy: 0.91 - 62s 3s/step - loss: 0.2392 - accuracy: 0.9124 - val_loss: 1.9142 - val_accuracy: 0.5571\n",
      "Epoch 30/50\n",
      "20/20 [==============================] - ETA: 1:02 - loss: 0.1027 - accuracy: 0.96 - ETA: 1:00 - loss: 0.1852 - accuracy: 0.89 - ETA: 56s - loss: 0.1490 - accuracy: 0.9167 - ETA: 51s - loss: 0.1834 - accuracy: 0.914 - ETA: 48s - loss: 0.1676 - accuracy: 0.925 - ETA: 44s - loss: 0.1624 - accuracy: 0.927 - ETA: 41s - loss: 0.1797 - accuracy: 0.924 - ETA: 37s - loss: 0.1747 - accuracy: 0.925 - ETA: 33s - loss: 0.1677 - accuracy: 0.927 - ETA: 30s - loss: 0.1646 - accuracy: 0.931 - ETA: 27s - loss: 0.1665 - accuracy: 0.932 - ETA: 24s - loss: 0.1566 - accuracy: 0.938 - ETA: 21s - loss: 0.1567 - accuracy: 0.935 - ETA: 17s - loss: 0.1505 - accuracy: 0.938 - ETA: 14s - loss: 0.1568 - accuracy: 0.935 - ETA: 11s - loss: 0.1565 - accuracy: 0.934 - ETA: 8s - loss: 0.1501 - accuracy: 0.938 - ETA: 5s - loss: 0.1452 - accuracy: 0.93 - ETA: 2s - loss: 0.1392 - accuracy: 0.94 - 62s 3s/step - loss: 0.1418 - accuracy: 0.9411 - val_loss: 2.5699 - val_accuracy: 0.5429\n",
      "Epoch 31/50\n"
     ]
    },
    {
     "name": "stdout",
     "output_type": "stream",
     "text": [
      "20/20 [==============================] - ETA: 1:03 - loss: 0.6320 - accuracy: 0.78 - ETA: 59s - loss: 0.5233 - accuracy: 0.8438 - ETA: 55s - loss: 0.4427 - accuracy: 0.864 - ETA: 51s - loss: 0.4087 - accuracy: 0.882 - ETA: 47s - loss: 0.3626 - accuracy: 0.893 - ETA: 44s - loss: 0.3171 - accuracy: 0.906 - ETA: 41s - loss: 0.2769 - accuracy: 0.919 - ETA: 37s - loss: 0.2739 - accuracy: 0.921 - ETA: 34s - loss: 0.2558 - accuracy: 0.927 - ETA: 31s - loss: 0.2493 - accuracy: 0.928 - ETA: 27s - loss: 0.2419 - accuracy: 0.929 - ETA: 24s - loss: 0.2520 - accuracy: 0.930 - ETA: 20s - loss: 0.2613 - accuracy: 0.928 - ETA: 17s - loss: 0.2644 - accuracy: 0.926 - ETA: 14s - loss: 0.2598 - accuracy: 0.927 - ETA: 11s - loss: 0.2491 - accuracy: 0.930 - ETA: 8s - loss: 0.2472 - accuracy: 0.926 - ETA: 5s - loss: 0.2435 - accuracy: 0.92 - ETA: 2s - loss: 0.2352 - accuracy: 0.92 - 62s 3s/step - loss: 0.2270 - accuracy: 0.9283 - val_loss: 2.4188 - val_accuracy: 0.6143\n",
      "Epoch 32/50\n",
      "20/20 [==============================] - ETA: 1:05 - loss: 0.1813 - accuracy: 0.90 - ETA: 1:00 - loss: 0.1300 - accuracy: 0.93 - ETA: 56s - loss: 0.1140 - accuracy: 0.9479 - ETA: 52s - loss: 0.0990 - accuracy: 0.960 - ETA: 48s - loss: 0.1308 - accuracy: 0.956 - ETA: 44s - loss: 0.1262 - accuracy: 0.958 - ETA: 41s - loss: 0.1334 - accuracy: 0.955 - ETA: 37s - loss: 0.1468 - accuracy: 0.957 - ETA: 34s - loss: 0.1588 - accuracy: 0.951 - ETA: 31s - loss: 0.1638 - accuracy: 0.950 - ETA: 28s - loss: 0.1884 - accuracy: 0.946 - ETA: 24s - loss: 0.1930 - accuracy: 0.942 - ETA: 21s - loss: 0.1865 - accuracy: 0.944 - ETA: 18s - loss: 0.1931 - accuracy: 0.942 - ETA: 15s - loss: 0.1925 - accuracy: 0.941 - ETA: 11s - loss: 0.1828 - accuracy: 0.944 - ETA: 8s - loss: 0.1799 - accuracy: 0.943 - ETA: 5s - loss: 0.1754 - accuracy: 0.94 - ETA: 2s - loss: 0.1688 - accuracy: 0.94 - 62s 3s/step - loss: 0.1751 - accuracy: 0.9411 - val_loss: 2.2829 - val_accuracy: 0.6000\n",
      "Epoch 33/50\n",
      "20/20 [==============================] - ETA: 1:02 - loss: 0.2081 - accuracy: 0.93 - ETA: 59s - loss: 0.1157 - accuracy: 0.9688 - ETA: 55s - loss: 0.1009 - accuracy: 0.968 - ETA: 51s - loss: 0.0911 - accuracy: 0.968 - ETA: 47s - loss: 0.1214 - accuracy: 0.962 - ETA: 44s - loss: 0.1237 - accuracy: 0.963 - ETA: 41s - loss: 0.1238 - accuracy: 0.964 - ETA: 37s - loss: 0.1335 - accuracy: 0.960 - ETA: 34s - loss: 0.1246 - accuracy: 0.965 - ETA: 31s - loss: 0.1182 - accuracy: 0.965 - ETA: 27s - loss: 0.1120 - accuracy: 0.968 - ETA: 24s - loss: 0.1046 - accuracy: 0.971 - ETA: 21s - loss: 0.1090 - accuracy: 0.968 - ETA: 18s - loss: 0.1101 - accuracy: 0.968 - ETA: 15s - loss: 0.1157 - accuracy: 0.968 - ETA: 11s - loss: 0.1113 - accuracy: 0.970 - ETA: 8s - loss: 0.1077 - accuracy: 0.969 - ETA: 5s - loss: 0.1051 - accuracy: 0.96 - ETA: 2s - loss: 0.1059 - accuracy: 0.96 - 62s 3s/step - loss: 0.1043 - accuracy: 0.9697 - val_loss: 2.7771 - val_accuracy: 0.5857\n",
      "Epoch 34/50\n",
      "20/20 [==============================] - ETA: 1:02 - loss: 0.0929 - accuracy: 0.93 - ETA: 59s - loss: 0.2445 - accuracy: 0.8906 - ETA: 55s - loss: 0.2880 - accuracy: 0.895 - ETA: 51s - loss: 0.2964 - accuracy: 0.906 - ETA: 47s - loss: 0.2827 - accuracy: 0.900 - ETA: 44s - loss: 0.2554 - accuracy: 0.911 - ETA: 41s - loss: 0.2442 - accuracy: 0.915 - ETA: 37s - loss: 0.2229 - accuracy: 0.921 - ETA: 34s - loss: 0.2427 - accuracy: 0.913 - ETA: 31s - loss: 0.2418 - accuracy: 0.915 - ETA: 27s - loss: 0.2711 - accuracy: 0.908 - ETA: 23s - loss: 0.2609 - accuracy: 0.914 - ETA: 20s - loss: 0.2644 - accuracy: 0.913 - ETA: 17s - loss: 0.2576 - accuracy: 0.912 - ETA: 14s - loss: 0.2487 - accuracy: 0.916 - ETA: 11s - loss: 0.2467 - accuracy: 0.916 - ETA: 8s - loss: 0.2399 - accuracy: 0.919 - ETA: 5s - loss: 0.2424 - accuracy: 0.92 - ETA: 2s - loss: 0.2421 - accuracy: 0.92 - 62s 3s/step - loss: 0.2319 - accuracy: 0.9252 - val_loss: 2.6593 - val_accuracy: 0.5571\n",
      "Epoch 35/50\n",
      "20/20 [==============================] - ETA: 1:02 - loss: 0.1029 - accuracy: 0.93 - ETA: 59s - loss: 0.1584 - accuracy: 0.9375 - ETA: 55s - loss: 0.1361 - accuracy: 0.947 - ETA: 51s - loss: 0.1609 - accuracy: 0.953 - ETA: 47s - loss: 0.1502 - accuracy: 0.956 - ETA: 44s - loss: 0.1417 - accuracy: 0.958 - ETA: 41s - loss: 0.1783 - accuracy: 0.937 - ETA: 37s - loss: 0.1738 - accuracy: 0.937 - ETA: 34s - loss: 0.1596 - accuracy: 0.941 - ETA: 31s - loss: 0.1580 - accuracy: 0.943 - ETA: 27s - loss: 0.1508 - accuracy: 0.948 - ETA: 24s - loss: 0.1688 - accuracy: 0.945 - ETA: 21s - loss: 0.1820 - accuracy: 0.942 - ETA: 18s - loss: 0.1881 - accuracy: 0.939 - ETA: 15s - loss: 0.1798 - accuracy: 0.943 - ETA: 12s - loss: 0.1780 - accuracy: 0.945 - ETA: 9s - loss: 0.1687 - accuracy: 0.948 - ETA: 6s - loss: 0.1765 - accuracy: 0.94 - ETA: 2s - loss: 0.1682 - accuracy: 0.94 - 62s 3s/step - loss: 0.1791 - accuracy: 0.9475 - val_loss: 2.6658 - val_accuracy: 0.6000\n",
      "Epoch 36/50\n",
      "20/20 [==============================] - ETA: 1:03 - loss: 0.2910 - accuracy: 0.93 - ETA: 1:00 - loss: 0.2213 - accuracy: 0.93 - ETA: 56s - loss: 0.1823 - accuracy: 0.9479 - ETA: 51s - loss: 0.1856 - accuracy: 0.937 - ETA: 48s - loss: 0.1813 - accuracy: 0.937 - ETA: 44s - loss: 0.1573 - accuracy: 0.947 - ETA: 41s - loss: 0.1664 - accuracy: 0.946 - ETA: 37s - loss: 0.1854 - accuracy: 0.941 - ETA: 34s - loss: 0.1987 - accuracy: 0.941 - ETA: 31s - loss: 0.2053 - accuracy: 0.937 - ETA: 27s - loss: 0.2043 - accuracy: 0.937 - ETA: 24s - loss: 0.1942 - accuracy: 0.938 - ETA: 20s - loss: 0.1914 - accuracy: 0.938 - ETA: 17s - loss: 0.1858 - accuracy: 0.935 - ETA: 14s - loss: 0.1869 - accuracy: 0.933 - ETA: 11s - loss: 0.1774 - accuracy: 0.938 - ETA: 8s - loss: 0.1692 - accuracy: 0.941 - ETA: 5s - loss: 0.1659 - accuracy: 0.94 - ETA: 2s - loss: 0.1757 - accuracy: 0.93 - 62s 3s/step - loss: 0.1853 - accuracy: 0.9379 - val_loss: 3.1726 - val_accuracy: 0.6429\n",
      "Epoch 37/50\n",
      "20/20 [==============================] - ETA: 1:03 - loss: 0.1474 - accuracy: 0.90 - ETA: 49s - loss: 0.2606 - accuracy: 0.9038 - ETA: 49s - loss: 0.2882 - accuracy: 0.916 - ETA: 47s - loss: 0.2510 - accuracy: 0.922 - ETA: 44s - loss: 0.2488 - accuracy: 0.918 - ETA: 41s - loss: 0.2931 - accuracy: 0.905 - ETA: 39s - loss: 0.3001 - accuracy: 0.900 - ETA: 36s - loss: 0.2871 - accuracy: 0.905 - ETA: 33s - loss: 0.2613 - accuracy: 0.916 - ETA: 30s - loss: 0.2390 - accuracy: 0.925 - ETA: 27s - loss: 0.2308 - accuracy: 0.929 - ETA: 23s - loss: 0.2234 - accuracy: 0.932 - ETA: 20s - loss: 0.2092 - accuracy: 0.938 - ETA: 17s - loss: 0.2014 - accuracy: 0.938 - ETA: 14s - loss: 0.1897 - accuracy: 0.942 - ETA: 11s - loss: 0.1914 - accuracy: 0.944 - ETA: 8s - loss: 0.1840 - accuracy: 0.945 - ETA: 5s - loss: 0.1769 - accuracy: 0.94 - ETA: 2s - loss: 0.1724 - accuracy: 0.95 - 62s 3s/step - loss: 0.1759 - accuracy: 0.9459 - val_loss: 2.3253 - val_accuracy: 0.6286\n",
      "Epoch 38/50\n",
      "20/20 [==============================] - ETA: 1:02 - loss: 0.1565 - accuracy: 0.93 - ETA: 59s - loss: 0.1231 - accuracy: 0.9531 - ETA: 55s - loss: 0.1064 - accuracy: 0.958 - ETA: 47s - loss: 0.0809 - accuracy: 0.965 - ETA: 44s - loss: 0.1102 - accuracy: 0.966 - ETA: 42s - loss: 0.1139 - accuracy: 0.966 - ETA: 39s - loss: 0.1080 - accuracy: 0.967 - ETA: 36s - loss: 0.1050 - accuracy: 0.967 - ETA: 33s - loss: 0.1151 - accuracy: 0.963 - ETA: 30s - loss: 0.1086 - accuracy: 0.964 - ETA: 27s - loss: 0.1251 - accuracy: 0.955 - ETA: 24s - loss: 0.1221 - accuracy: 0.957 - ETA: 21s - loss: 0.1158 - accuracy: 0.960 - ETA: 18s - loss: 0.1090 - accuracy: 0.963 - ETA: 14s - loss: 0.1217 - accuracy: 0.963 - ETA: 11s - loss: 0.1179 - accuracy: 0.964 - ETA: 8s - loss: 0.1181 - accuracy: 0.964 - ETA: 5s - loss: 0.1241 - accuracy: 0.96 - ETA: 2s - loss: 0.1271 - accuracy: 0.95 - 62s 3s/step - loss: 0.1266 - accuracy: 0.9570 - val_loss: 1.9288 - val_accuracy: 0.6286\n",
      "Epoch 39/50\n"
     ]
    },
    {
     "name": "stdout",
     "output_type": "stream",
     "text": [
      "20/20 [==============================] - ETA: 1:03 - loss: 0.2250 - accuracy: 0.93 - ETA: 59s - loss: 0.1264 - accuracy: 0.9688 - ETA: 55s - loss: 0.2312 - accuracy: 0.947 - ETA: 51s - loss: 0.2505 - accuracy: 0.929 - ETA: 47s - loss: 0.2621 - accuracy: 0.925 - ETA: 44s - loss: 0.2495 - accuracy: 0.927 - ETA: 38s - loss: 0.2384 - accuracy: 0.924 - ETA: 36s - loss: 0.2529 - accuracy: 0.922 - ETA: 33s - loss: 0.3296 - accuracy: 0.913 - ETA: 29s - loss: 0.3197 - accuracy: 0.912 - ETA: 26s - loss: 0.3162 - accuracy: 0.908 - ETA: 23s - loss: 0.3082 - accuracy: 0.908 - ETA: 20s - loss: 0.2891 - accuracy: 0.915 - ETA: 17s - loss: 0.3000 - accuracy: 0.912 - ETA: 14s - loss: 0.2997 - accuracy: 0.914 - ETA: 11s - loss: 0.2906 - accuracy: 0.918 - ETA: 8s - loss: 0.2782 - accuracy: 0.922 - ETA: 5s - loss: 0.2666 - accuracy: 0.92 - ETA: 2s - loss: 0.2569 - accuracy: 0.92 - 61s 3s/step - loss: 0.2496 - accuracy: 0.9315 - val_loss: 2.0191 - val_accuracy: 0.5857\n",
      "Epoch 40/50\n",
      "20/20 [==============================] - ETA: 1:00 - loss: 0.0543 - accuracy: 0.96 - ETA: 57s - loss: 0.0450 - accuracy: 0.9844 - ETA: 54s - loss: 0.0381 - accuracy: 0.989 - ETA: 50s - loss: 0.0545 - accuracy: 0.984 - ETA: 46s - loss: 0.0712 - accuracy: 0.975 - ETA: 43s - loss: 0.0795 - accuracy: 0.968 - ETA: 39s - loss: 0.1516 - accuracy: 0.950 - ETA: 36s - loss: 0.1616 - accuracy: 0.949 - ETA: 33s - loss: 0.1557 - accuracy: 0.951 - ETA: 30s - loss: 0.1488 - accuracy: 0.953 - ETA: 27s - loss: 0.1367 - accuracy: 0.957 - ETA: 24s - loss: 0.1291 - accuracy: 0.960 - ETA: 20s - loss: 0.1216 - accuracy: 0.963 - ETA: 17s - loss: 0.1141 - accuracy: 0.965 - ETA: 14s - loss: 0.1080 - accuracy: 0.967 - ETA: 11s - loss: 0.1120 - accuracy: 0.966 - ETA: 8s - loss: 0.1173 - accuracy: 0.964 - ETA: 5s - loss: 0.1141 - accuracy: 0.96 - ETA: 2s - loss: 0.1108 - accuracy: 0.96 - 60s 3s/step - loss: 0.1108 - accuracy: 0.9634 - val_loss: 2.8653 - val_accuracy: 0.6286\n",
      "Epoch 41/50\n",
      "20/20 [==============================] - ETA: 1:00 - loss: 0.6375 - accuracy: 0.90 - ETA: 57s - loss: 0.4308 - accuracy: 0.9062 - ETA: 54s - loss: 0.3915 - accuracy: 0.906 - ETA: 50s - loss: 0.3237 - accuracy: 0.914 - ETA: 46s - loss: 0.2870 - accuracy: 0.918 - ETA: 43s - loss: 0.2452 - accuracy: 0.932 - ETA: 39s - loss: 0.2158 - accuracy: 0.937 - ETA: 36s - loss: 0.1958 - accuracy: 0.941 - ETA: 32s - loss: 0.1758 - accuracy: 0.945 - ETA: 29s - loss: 0.1645 - accuracy: 0.948 - ETA: 26s - loss: 0.1618 - accuracy: 0.950 - ETA: 23s - loss: 0.1587 - accuracy: 0.951 - ETA: 20s - loss: 0.1733 - accuracy: 0.945 - ETA: 17s - loss: 0.1672 - accuracy: 0.949 - ETA: 14s - loss: 0.1583 - accuracy: 0.953 - ETA: 11s - loss: 0.1584 - accuracy: 0.952 - ETA: 8s - loss: 0.1612 - accuracy: 0.949 - ETA: 5s - loss: 0.1672 - accuracy: 0.94 - ETA: 2s - loss: 0.1684 - accuracy: 0.94 - 60s 3s/step - loss: 0.1613 - accuracy: 0.9490 - val_loss: 2.4137 - val_accuracy: 0.6143\n",
      "Epoch 42/50\n",
      "20/20 [==============================] - ETA: 1:01 - loss: 0.1160 - accuracy: 0.96 - ETA: 57s - loss: 0.0872 - accuracy: 0.9688 - ETA: 54s - loss: 0.0690 - accuracy: 0.979 - ETA: 50s - loss: 0.0572 - accuracy: 0.984 - ETA: 46s - loss: 0.0518 - accuracy: 0.987 - ETA: 43s - loss: 0.0548 - accuracy: 0.989 - ETA: 39s - loss: 0.0510 - accuracy: 0.991 - ETA: 36s - loss: 0.0509 - accuracy: 0.988 - ETA: 33s - loss: 0.0455 - accuracy: 0.989 - ETA: 30s - loss: 0.0546 - accuracy: 0.984 - ETA: 27s - loss: 0.0813 - accuracy: 0.980 - ETA: 23s - loss: 0.0855 - accuracy: 0.976 - ETA: 20s - loss: 0.0807 - accuracy: 0.978 - ETA: 17s - loss: 0.0816 - accuracy: 0.975 - ETA: 14s - loss: 0.0819 - accuracy: 0.975 - ETA: 11s - loss: 0.0833 - accuracy: 0.972 - ETA: 8s - loss: 0.0789 - accuracy: 0.974 - ETA: 5s - loss: 0.0791 - accuracy: 0.97 - ETA: 2s - loss: 0.0755 - accuracy: 0.97 - 60s 3s/step - loss: 0.0724 - accuracy: 0.9761 - val_loss: 3.4969 - val_accuracy: 0.6000\n",
      "Epoch 43/50\n",
      "20/20 [==============================] - ETA: 1:00 - loss: 0.0688 - accuracy: 0.96 - ETA: 57s - loss: 0.0952 - accuracy: 0.9688 - ETA: 54s - loss: 0.1031 - accuracy: 0.958 - ETA: 50s - loss: 0.0872 - accuracy: 0.968 - ETA: 46s - loss: 0.0762 - accuracy: 0.975 - ETA: 43s - loss: 0.0970 - accuracy: 0.974 - ETA: 39s - loss: 0.1101 - accuracy: 0.964 - ETA: 36s - loss: 0.1091 - accuracy: 0.964 - ETA: 32s - loss: 0.1042 - accuracy: 0.963 - ETA: 29s - loss: 0.0969 - accuracy: 0.967 - ETA: 26s - loss: 0.1123 - accuracy: 0.964 - ETA: 23s - loss: 0.1186 - accuracy: 0.965 - ETA: 20s - loss: 0.1182 - accuracy: 0.965 - ETA: 17s - loss: 0.1184 - accuracy: 0.963 - ETA: 14s - loss: 0.1183 - accuracy: 0.961 - ETA: 11s - loss: 0.1254 - accuracy: 0.960 - ETA: 8s - loss: 0.1304 - accuracy: 0.956 - ETA: 5s - loss: 0.1329 - accuracy: 0.95 - ETA: 2s - loss: 0.1405 - accuracy: 0.95 - 61s 3s/step - loss: 0.1427 - accuracy: 0.9522 - val_loss: 2.2275 - val_accuracy: 0.6143\n",
      "Epoch 44/50\n",
      "20/20 [==============================] - ETA: 1:01 - loss: 0.0752 - accuracy: 1.00 - ETA: 57s - loss: 0.0757 - accuracy: 0.9844 - ETA: 54s - loss: 0.2013 - accuracy: 0.947 - ETA: 50s - loss: 0.1685 - accuracy: 0.953 - ETA: 46s - loss: 0.1641 - accuracy: 0.956 - ETA: 43s - loss: 0.1725 - accuracy: 0.947 - ETA: 39s - loss: 0.1562 - accuracy: 0.955 - ETA: 36s - loss: 0.1602 - accuracy: 0.949 - ETA: 32s - loss: 0.1557 - accuracy: 0.945 - ETA: 29s - loss: 0.1612 - accuracy: 0.944 - ETA: 26s - loss: 0.1661 - accuracy: 0.947 - ETA: 23s - loss: 0.1580 - accuracy: 0.948 - ETA: 20s - loss: 0.1546 - accuracy: 0.950 - ETA: 17s - loss: 0.1500 - accuracy: 0.949 - ETA: 14s - loss: 0.1430 - accuracy: 0.953 - ETA: 11s - loss: 0.1382 - accuracy: 0.954 - ETA: 8s - loss: 0.1385 - accuracy: 0.953 - ETA: 5s - loss: 0.1338 - accuracy: 0.95 - ETA: 2s - loss: 0.1322 - accuracy: 0.95 - 60s 3s/step - loss: 0.1328 - accuracy: 0.9522 - val_loss: 3.4774 - val_accuracy: 0.6143\n",
      "Epoch 45/50\n",
      "20/20 [==============================] - ETA: 1:00 - loss: 0.0463 - accuracy: 0.96 - ETA: 57s - loss: 0.1032 - accuracy: 0.9531 - ETA: 54s - loss: 0.1561 - accuracy: 0.947 - ETA: 49s - loss: 0.1747 - accuracy: 0.945 - ETA: 46s - loss: 0.1746 - accuracy: 0.943 - ETA: 42s - loss: 0.1873 - accuracy: 0.947 - ETA: 39s - loss: 0.1721 - accuracy: 0.946 - ETA: 36s - loss: 0.1716 - accuracy: 0.945 - ETA: 32s - loss: 0.1631 - accuracy: 0.945 - ETA: 29s - loss: 0.1477 - accuracy: 0.951 - ETA: 26s - loss: 0.1355 - accuracy: 0.955 - ETA: 23s - loss: 0.1283 - accuracy: 0.957 - ETA: 20s - loss: 0.1224 - accuracy: 0.957 - ETA: 17s - loss: 0.1169 - accuracy: 0.961 - ETA: 14s - loss: 0.1095 - accuracy: 0.963 - ETA: 11s - loss: 0.1044 - accuracy: 0.966 - ETA: 8s - loss: 0.1034 - accuracy: 0.966 - ETA: 5s - loss: 0.0991 - accuracy: 0.96 - ETA: 2s - loss: 0.1129 - accuracy: 0.96 - 60s 3s/step - loss: 0.1081 - accuracy: 0.9666 - val_loss: 2.8624 - val_accuracy: 0.5571\n",
      "Epoch 46/50\n",
      "20/20 [==============================] - ETA: 1:00 - loss: 0.0090 - accuracy: 1.00 - ETA: 47s - loss: 0.1064 - accuracy: 0.9808 - ETA: 47s - loss: 0.0774 - accuracy: 0.988 - ETA: 45s - loss: 0.0658 - accuracy: 0.991 - ETA: 43s - loss: 0.0631 - accuracy: 0.986 - ETA: 40s - loss: 0.0622 - accuracy: 0.988 - ETA: 37s - loss: 0.0535 - accuracy: 0.990 - ETA: 34s - loss: 0.0611 - accuracy: 0.987 - ETA: 32s - loss: 0.0686 - accuracy: 0.981 - ETA: 29s - loss: 0.0743 - accuracy: 0.980 - ETA: 26s - loss: 0.0994 - accuracy: 0.976 - ETA: 23s - loss: 0.0979 - accuracy: 0.975 - ETA: 20s - loss: 0.1125 - accuracy: 0.970 - ETA: 17s - loss: 0.1337 - accuracy: 0.965 - ETA: 14s - loss: 0.1345 - accuracy: 0.963 - ETA: 11s - loss: 0.1304 - accuracy: 0.964 - ETA: 8s - loss: 0.1335 - accuracy: 0.958 - ETA: 5s - loss: 0.1310 - accuracy: 0.95 - ETA: 2s - loss: 0.1250 - accuracy: 0.96 - 60s 3s/step - loss: 0.1202 - accuracy: 0.9634 - val_loss: 2.2555 - val_accuracy: 0.5857\n",
      "Epoch 47/50\n"
     ]
    },
    {
     "name": "stdout",
     "output_type": "stream",
     "text": [
      "20/20 [==============================] - ETA: 1:01 - loss: 0.0774 - accuracy: 0.93 - ETA: 57s - loss: 0.1897 - accuracy: 0.9219 - ETA: 54s - loss: 0.2066 - accuracy: 0.927 - ETA: 50s - loss: 0.2224 - accuracy: 0.929 - ETA: 46s - loss: 0.1845 - accuracy: 0.943 - ETA: 43s - loss: 0.1612 - accuracy: 0.953 - ETA: 39s - loss: 0.1563 - accuracy: 0.955 - ETA: 36s - loss: 0.1430 - accuracy: 0.957 - ETA: 33s - loss: 0.1321 - accuracy: 0.958 - ETA: 30s - loss: 0.1205 - accuracy: 0.962 - ETA: 27s - loss: 0.1100 - accuracy: 0.965 - ETA: 23s - loss: 0.1030 - accuracy: 0.968 - ETA: 20s - loss: 0.0961 - accuracy: 0.971 - ETA: 17s - loss: 0.0920 - accuracy: 0.973 - ETA: 14s - loss: 0.0972 - accuracy: 0.970 - ETA: 11s - loss: 0.1238 - accuracy: 0.962 - ETA: 8s - loss: 0.1170 - accuracy: 0.965 - ETA: 5s - loss: 0.1123 - accuracy: 0.96 - ETA: 2s - loss: 0.1095 - accuracy: 0.96 - 60s 3s/step - loss: 0.1121 - accuracy: 0.9666 - val_loss: 3.1574 - val_accuracy: 0.5429\n",
      "Epoch 48/50\n",
      "20/20 [==============================] - ETA: 1:00 - loss: 0.0270 - accuracy: 0.96 - ETA: 57s - loss: 0.0260 - accuracy: 0.9844 - ETA: 54s - loss: 0.0237 - accuracy: 0.989 - ETA: 50s - loss: 0.0228 - accuracy: 0.992 - ETA: 46s - loss: 0.0369 - accuracy: 0.987 - ETA: 43s - loss: 0.0485 - accuracy: 0.979 - ETA: 39s - loss: 0.0517 - accuracy: 0.977 - ETA: 36s - loss: 0.0519 - accuracy: 0.980 - ETA: 33s - loss: 0.0607 - accuracy: 0.975 - ETA: 30s - loss: 0.0597 - accuracy: 0.975 - ETA: 27s - loss: 0.0683 - accuracy: 0.974 - ETA: 23s - loss: 0.0664 - accuracy: 0.976 - ETA: 20s - loss: 0.0664 - accuracy: 0.978 - ETA: 17s - loss: 0.0744 - accuracy: 0.975 - ETA: 14s - loss: 0.0804 - accuracy: 0.972 - ETA: 11s - loss: 0.0867 - accuracy: 0.972 - ETA: 8s - loss: 0.0886 - accuracy: 0.972 - ETA: 5s - loss: 0.0888 - accuracy: 0.97 - ETA: 2s - loss: 0.0881 - accuracy: 0.97 - 60s 3s/step - loss: 0.0880 - accuracy: 0.9697 - val_loss: 3.1852 - val_accuracy: 0.6143\n",
      "Epoch 49/50\n",
      "20/20 [==============================] - ETA: 1:01 - loss: 0.0039 - accuracy: 1.00 - ETA: 57s - loss: 0.0986 - accuracy: 0.9688 - ETA: 54s - loss: 0.0809 - accuracy: 0.979 - ETA: 50s - loss: 0.0723 - accuracy: 0.976 - ETA: 46s - loss: 0.0693 - accuracy: 0.975 - ETA: 43s - loss: 0.1156 - accuracy: 0.963 - ETA: 39s - loss: 0.1056 - accuracy: 0.968 - ETA: 36s - loss: 0.0996 - accuracy: 0.964 - ETA: 33s - loss: 0.1047 - accuracy: 0.965 - ETA: 30s - loss: 0.1246 - accuracy: 0.959 - ETA: 27s - loss: 0.1142 - accuracy: 0.963 - ETA: 23s - loss: 0.1074 - accuracy: 0.966 - ETA: 20s - loss: 0.0997 - accuracy: 0.968 - ETA: 17s - loss: 0.0935 - accuracy: 0.971 - ETA: 14s - loss: 0.0899 - accuracy: 0.970 - ETA: 11s - loss: 0.0860 - accuracy: 0.972 - ETA: 8s - loss: 0.0811 - accuracy: 0.973 - ETA: 5s - loss: 0.0793 - accuracy: 0.97 - ETA: 2s - loss: 0.0796 - accuracy: 0.97 - 60s 3s/step - loss: 0.0771 - accuracy: 0.9745 - val_loss: 3.0481 - val_accuracy: 0.6286\n",
      "Epoch 50/50\n",
      "20/20 [==============================] - ETA: 40s - loss: 0.0043 - accuracy: 1.000 - ETA: 47s - loss: 0.0453 - accuracy: 0.961 - ETA: 48s - loss: 0.0547 - accuracy: 0.976 - ETA: 46s - loss: 0.0846 - accuracy: 0.956 - ETA: 43s - loss: 0.0772 - accuracy: 0.966 - ETA: 40s - loss: 0.0673 - accuracy: 0.972 - ETA: 38s - loss: 0.0776 - accuracy: 0.971 - ETA: 35s - loss: 0.1276 - accuracy: 0.959 - ETA: 32s - loss: 0.1204 - accuracy: 0.960 - ETA: 29s - loss: 0.1106 - accuracy: 0.964 - ETA: 26s - loss: 0.1014 - accuracy: 0.967 - ETA: 23s - loss: 0.0969 - accuracy: 0.970 - ETA: 20s - loss: 0.0948 - accuracy: 0.970 - ETA: 17s - loss: 0.1013 - accuracy: 0.967 - ETA: 14s - loss: 0.0986 - accuracy: 0.967 - ETA: 11s - loss: 0.0977 - accuracy: 0.970 - ETA: 8s - loss: 0.0945 - accuracy: 0.971 - ETA: 5s - loss: 0.0963 - accuracy: 0.97 - ETA: 2s - loss: 0.1067 - accuracy: 0.97 - 60s 3s/step - loss: 0.1034 - accuracy: 0.9729 - val_loss: 2.7899 - val_accuracy: 0.5857\n"
     ]
    }
   ],
   "source": [
    "model = tf.keras.models.Sequential([\n",
    "    \n",
    "    # This is the first convolution\n",
    "    tf.keras.layers.Conv2D(64, (3,3), activation='relu', input_shape=(200, 200, 3)),\n",
    "    tf.keras.layers.MaxPooling2D(2, 2),\n",
    "    # The second convolution\n",
    "    tf.keras.layers.Conv2D(64, (2,2), activation='relu'),\n",
    "    tf.keras.layers.MaxPooling2D(2,2),\n",
    "    \n",
    "        # The third convolution\n",
    "    tf.keras.layers.Conv2D(128, (3,3), activation='relu'),\n",
    "    tf.keras.layers.MaxPooling2D(2,2),\n",
    "    # The fourth convolution\n",
    "    tf.keras.layers.Conv2D(128, (3,3), activation='relu'),\n",
    "    tf.keras.layers.MaxPooling2D(2,2),\n",
    "    # Flatten the results to feed into a DNN\n",
    "    tf.keras.layers.Flatten(),\n",
    "    tf.keras.layers.Dropout(0.5),\n",
    "    # 512 neuron hidden layer\n",
    "    tf.keras.layers.Dense(512, activation='relu'),\n",
    "    tf.keras.layers.Dense(13, activation='softmax')\n",
    "])\n",
    "model.summary()\n",
    "\n",
    "model.compile(loss = 'categorical_crossentropy', optimizer='rmsprop', metrics=['accuracy']) #usually  optimizer='adam'\n",
    "\n",
    "history = model.fit_generator(train_generator, epochs=50, validation_data = validation_generator, verbose = 1)\n",
    "\n",
    "model.save(\"sp_recog.h5\")"
   ]
  },
  {
   "cell_type": "code",
   "execution_count": 6,
   "metadata": {},
   "outputs": [
    {
     "data": {
      "image/png": "[encoded data removed]",
      "text/plain": [
       "<Figure size 432x288 with 1 Axes>"
      ]
     },
     "metadata": {
      "needs_background": "light"
     },
     "output_type": "display_data"
    },
    {
     "data": {
      "image/png": "[encoded data removed]",
      "text/plain": [
       "<Figure size 432x288 with 1 Axes>"
      ]
     },
     "metadata": {
      "needs_background": "light"
     },
     "output_type": "display_data"
    }
   ],
   "source": [
    "import matplotlib.pyplot as plt\n",
    "acc = history.history['accuracy']\n",
    "val_acc = history.history['val_accuracy']\n",
    "loss = history.history['loss']\n",
    "val_loss = history.history['val_loss']\n",
    "\n",
    "epochs = range(len(acc))\n",
    "plt.subplot(2,1,1)\n",
    "plt.plot(epochs, acc, 'r', label='Training accuracy')\n",
    "plt.plot(epochs, val_acc, 'b', label='Validation accuracy')\n",
    "plt.title('Training and validation accuracy')\n",
    "plt.legend(loc=0)\n",
    "plt.grid()\n",
    "plt.savefig('20epochs_accur')\n",
    "plt.show()\n",
    "\n",
    "plt.subplot(2,1,2)\n",
    "plt.plot(epochs, loss, 'r', label='Training loss')\n",
    "plt.plot(epochs, val_loss, 'b', label='Validation loss')\n",
    "plt.title('Training and validation losses')\n",
    "plt.legend(loc=0)\n",
    "plt.grid()\n",
    "plt.savefig('20epochs')\n",
    "plt.show()"
   ]
  },
  {
   "cell_type": "code",
   "execution_count": 11,
   "metadata": {},
   "outputs": [
    {
     "data": {
      "text/plain": [
       "[0.17142858,\n",
       " 0.25714287,\n",
       " 0.3,\n",
       " 0.4,\n",
       " 0.32857144,\n",
       " 0.45714286,\n",
       " 0.5,\n",
       " 0.5285714,\n",
       " 0.41428572,\n",
       " 0.51428574,\n",
       " 0.6,\n",
       " 0.5857143,\n",
       " 0.5285714,\n",
       " 0.5857143,\n",
       " 0.51428574,\n",
       " 0.51428574,\n",
       " 0.51428574,\n",
       " 0.5714286,\n",
       " 0.5857143,\n",
       " 0.55714285,\n",
       " 0.5857143,\n",
       " 0.51428574,\n",
       " 0.6,\n",
       " 0.6142857,\n",
       " 0.5714286,\n",
       " 0.5714286,\n",
       " 0.55714285,\n",
       " 0.5714286,\n",
       " 0.55714285,\n",
       " 0.54285717,\n",
       " 0.6142857,\n",
       " 0.6,\n",
       " 0.5857143,\n",
       " 0.55714285,\n",
       " 0.6,\n",
       " 0.64285713,\n",
       " 0.62857145,\n",
       " 0.62857145,\n",
       " 0.5857143,\n",
       " 0.62857145,\n",
       " 0.6142857,\n",
       " 0.6,\n",
       " 0.6142857,\n",
       " 0.6142857,\n",
       " 0.55714285,\n",
       " 0.5857143,\n",
       " 0.54285717,\n",
       " 0.6142857,\n",
       " 0.62857145,\n",
       " 0.5857143]"
      ]
     },
     "execution_count": 11,
     "metadata": {},
     "output_type": "execute_result"
    }
   ],
   "source": [
    "val_acc"
   ]
  },
  {
   "cell_type": "code",
   "execution_count": 25,
   "metadata": {
    "scrolled": true
   },
   "outputs": [
    {
     "name": "stdout",
     "output_type": "stream",
     "text": [
      "filename: 00_153b017510.wav, spoken number: 0, predicted as: 2\n",
      "filename: 00_a2560b0961.wav, spoken number: 0, predicted as: 0\n",
      "filename: 01_313c866a41.wav, spoken number: 1, predicted as: 4\n",
      "filename: 1-11_06_2019--07_22_16.wav, spoken number: 1, predicted as: 1\n",
      "filename: 10_a169144267.wav, spoken number: 10, predicted as: 8\n",
      "filename: 10_c5a1799438.wav, spoken number: 10, predicted as: 0\n",
      "filename: 11_08cca30b2c.wav, spoken number: 11, predicted as: 4\n",
      "filename: 11_590c23a2c0.wav, spoken number: 11, predicted as: 8\n",
      "filename: 12_419bc4887b.wav, spoken number: 12, predicted as: 4\n",
      "filename: 12_81c528ab57.wav, spoken number: 12, predicted as: 12\n",
      "filename: 02_5a9c4aa512.wav, spoken number: 2, predicted as: 0\n",
      "filename: 02_7656758289.wav, spoken number: 2, predicted as: 2\n",
      "filename: 03_39720a0602.wav, spoken number: 3, predicted as: 3\n",
      "filename: 03_81a437768c.wav, spoken number: 3, predicted as: 3\n",
      "filename: 04_608945cb1c.wav, spoken number: 4, predicted as: 4\n",
      "filename: 04_c144aacc07.wav, spoken number: 4, predicted as: 12\n",
      "filename: 05_0a382a456b.wav, spoken number: 5, predicted as: 12\n",
      "filename: 05_b1016b532b.wav, spoken number: 5, predicted as: 12\n",
      "filename: 06_846c8a016c.wav, spoken number: 6, predicted as: 2\n",
      "filename: 06_90aca89004.wav, spoken number: 6, predicted as: 6\n",
      "filename: 07_4b30553703.wav, spoken number: 7, predicted as: 11\n",
      "filename: 07_b542797993.wav, spoken number: 7, predicted as: 6\n",
      "filename: 08_0b85c34668.wav, spoken number: 8, predicted as: 8\n",
      "filename: 08_4bbb38c665.wav, spoken number: 8, predicted as: 8\n",
      "filename: 09_3c7c459214.wav, spoken number: 9, predicted as: 9\n",
      "filename: 9-10_06_2019--22_11_24.wav, spoken number: 9, predicted as: 4\n"
     ]
    }
   ],
   "source": [
    "testing_dir = os.path.join(Original_Dir, 'testing')\n",
    "Folders = os.listdir(testing_dir)\n",
    "for folder in Folders:\n",
    "    files = os.listdir(os.path.join(Original_Dir, 'testing',folder))\n",
    "    for file in files:\n",
    "    #file = files[0]\n",
    "        img = image.load_img(os.path.join(Original_Dir, 'testing',folder,file), target_size=(200, 200))\n",
    "        x = image.img_to_array(img)\n",
    "        x = np.expand_dims(x, axis=0)\n",
    "        prediction = model.predict(x, batch_size=1)\n",
    "        pred_ans = Folders[prediction.argmax()]\n",
    "        print('filename: {}, spoken number: {}, predicted as: {}'.format (file[:-4], separ_number_from_filename(file), pred_ans))"
   ]
  },
  {
   "cell_type": "code",
   "execution_count": null,
   "metadata": {},
   "outputs": [],
   "source": []
  }
 ],
 "metadata": {
  "kernelspec": {
   "display_name": "Python 3",
   "language": "python",
   "name": "python3"
  },
  "language_info": {
   "codemirror_mode": {
    "name": "ipython",
    "version": 3
   },
   "file_extension": ".py",
   "mimetype": "text/x-python",
   "name": "python",
   "nbconvert_exporter": "python",
   "pygments_lexer": "ipython3",
   "version": "3.7.4"
  }
 },
 "nbformat": 4,
 "nbformat_minor": 2
}
