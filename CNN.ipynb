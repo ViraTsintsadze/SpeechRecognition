{
 "cells": [
  {
   "cell_type": "code",
   "execution_count": 1,
   "metadata": {},
   "outputs": [
    {
     "name": "stderr",
     "output_type": "stream",
     "text": [
      "Using TensorFlow backend.\n"
     ]
    }
   ],
   "source": [
    "import numpy as np\n",
    "import matplotlib.pyplot as plt\n",
    "import os\n",
    "import cv2\n",
    "from tqdm import tqdm\n",
    "from shutil import copy\n",
    "import random\n",
    "\n",
    "import tensorflow as tf\n",
    "from tensorflow.keras.models import Sequential\n",
    "from tensorflow.keras.layers import Dense, Dropout, Activation, Flatten\n",
    "from tensorflow.keras.layers import Conv2D, MaxPooling2D\n",
    "from shutil import copy\n",
    "from shutil import rmtree\n",
    "\n",
    "from keras.preprocessing import image\n",
    "from keras_preprocessing.image import ImageDataGenerator\n"
   ]
  },
  {
   "cell_type": "code",
   "execution_count": 2,
   "metadata": {},
   "outputs": [],
   "source": [
    "#puts files with numbers in number-named folders\n",
    "def folder_putter(path, Num):\n",
    "    Num = str(Num)\n",
    "    #check is /on the end of path \n",
    "    if (path[:-2]!='/'): path = path+'/'\n",
    "    #check is folder exists, if not - create\n",
    "    if (os.path.isdir(path+Num)==0):\n",
    "        os.mkdir(path+Num)\n",
    "    #find files starting that number and copy it in their folder\n",
    "    filelist = os.listdir(path)\n",
    "    for file in filelist:\n",
    "        if (separ_number_from_filename(file)==Num) and os.path.isfile(path+Num+'/'+file)==0 and file.endswith(\".png\"):\n",
    "            copy(path+file, path+Num+'/'+file)\n",
    "    return 0\n",
    "\n",
    "\n",
    "def separ_number_from_filename(filename_string):\n",
    "    pos = len(filename_string)\n",
    "    for i in range(len(filename_string)):\n",
    "        if not filename_string[i].isdigit():\n",
    "            pos = i\n",
    "            break\n",
    "    return str(int(filename_string[:pos])) \n",
    "\n",
    "\n",
    "#function for: \n",
    "    #getting the list of files, \n",
    "    #splitting them, \n",
    "    #putting files in \"training\" and \"validation\" folders, and \"categofy_name\" folders \n",
    "def splitter (Original_Dir, split_ratio, categories_Num):\n",
    "\n",
    "    type_of_data_files = '.png'\n",
    "\n",
    "    filelist = []\n",
    "    for i in os.listdir(Original_Dir):\n",
    "        if i.endswith(type_of_data_files):\n",
    "            filelist.append(i)\n",
    "\n",
    "    categories_Num = 12\n",
    "    #os.path.join(Original_Dir)\n",
    "    N_files = len(filelist)\n",
    "    num_training=int(split_ratio*N_files)\n",
    "\n",
    "    #shuffling filelist\n",
    "    random.shuffle(filelist)\n",
    "    filelist_training = filelist[:num_training]\n",
    "    filelist_validation = filelist[num_training:]\n",
    "\n",
    "    #check is \"training\" and \"validation\" folder exists, if not - create\n",
    "    training_dir = os.path.join(Original_Dir, 'training')\n",
    "    validation_dir = os.path.join(Original_Dir, 'validation')\n",
    "\n",
    "    if (os.path.isdir(training_dir) ==True):\n",
    "        rmtree(training_dir) # if exists, deliting the old training folder\n",
    "    if (os.path.isdir(validation_dir) ==True):\n",
    "        rmtree(validation_dir) #deliting the old validation folder\n",
    "    os.mkdir(training_dir) #making new empty\n",
    "    os.mkdir(validation_dir)\n",
    "\n",
    "    #for each file in filelist_training, put files in their folders\n",
    "    DIR = training_dir\n",
    "    for f in filelist_training:\n",
    "        #what's it's spoken number?\n",
    "        num = separ_number_from_filename(f)\n",
    "        num_folder = os.path.join(DIR, num)\n",
    "        #if folder for spoken number doesn't exist, make it\n",
    "        if (os.path.isdir(num_folder) ==0):\n",
    "            os.mkdir(num_folder)\n",
    "\n",
    "        copy(os.path.join(Original_Dir, f) #copy from\n",
    "            , os.path.join(DIR,num,f))       #copy to\n",
    "\n",
    "    #now for validation    \n",
    "    #for each file in filelist_validation, put files in their folders\n",
    "    DIR = validation_dir\n",
    "    for f in filelist_validation:\n",
    "        #what's it's spoken number?\n",
    "        num = separ_number_from_filename(f)\n",
    "        num_folder = os.path.join(DIR, num)\n",
    "        #if folder for spoken number doesn't exist, make it\n",
    "        if (os.path.isdir(num_folder) ==0):\n",
    "            os.mkdir(num_folder)\n",
    "\n",
    "        copy(os.path.join(Original_Dir, f), os.path.join(DIR,num,f))      \n"
   ]
  },
  {
   "cell_type": "markdown",
   "metadata": {},
   "source": [
    "this code below doesn't need any previous, because it takes images from directory, opens and resize them with *ImageDataGenerator*\n",
    "But it does need files in the \"categofy_name\" folders"
   ]
  },
  {
   "cell_type": "markdown",
   "metadata": {},
   "source": [
    "Need a splitter function for: getting the list of files, splitting them, putting files in \"training\" and \"validation\" folders, and  \"categofy_name\" folders "
   ]
  },
  {
   "cell_type": "code",
   "execution_count": 3,
   "metadata": {},
   "outputs": [],
   "source": [
    "Original_Dir = 'C:/Users/verat/Desktop/DS_MeetUp/SpeechRecognition/TestSamples'\n",
    "training_dir = os.path.join(Original_Dir, 'training')\n",
    "validation_dir = os.path.join(Original_Dir, 'validation')\n",
    "\n",
    "split_ratio = 0.9\n",
    "splitter (Original_Dir, split_ratio, categories_Num=13)\n"
   ]
  },
  {
   "cell_type": "markdown",
   "metadata": {},
   "source": [
    "making Batches with ImageDataGenerator "
   ]
  },
  {
   "cell_type": "code",
   "execution_count": 4,
   "metadata": {},
   "outputs": [
    {
     "name": "stdout",
     "output_type": "stream",
     "text": [
      "Found 647 images belonging to 13 classes.\n",
      "Found 72 images belonging to 13 classes.\n"
     ]
    }
   ],
   "source": [
    "\n",
    "#TRAINING DATA\n",
    "training_datagen = ImageDataGenerator(\n",
    "      rescale = 1./255,\n",
    "\t  rotation_range=0,\n",
    "      width_shift_range=0.0,\n",
    "      height_shift_range=0.0,\n",
    "      shear_range=0.2,\n",
    "      zoom_range=0.2,\n",
    "      horizontal_flip=False,\n",
    "      fill_mode='nearest')\n",
    "\n",
    "train_generator = training_datagen.flow_from_directory(\n",
    "\ttraining_dir,\n",
    "\ttarget_size=(200,200),\n",
    "\tclass_mode='categorical'\n",
    ")\n",
    "\n",
    "#VALIDATION DATA\n",
    "validation_datagen = ImageDataGenerator(rescale = 1./255)\n",
    "validation_generator = validation_datagen.flow_from_directory(\n",
    "\tvalidation_dir,\n",
    "\ttarget_size=(200,200),\n",
    "\tclass_mode='categorical'\n",
    ")\n"
   ]
  },
  {
   "cell_type": "markdown",
   "metadata": {},
   "source": [
    "Next part - building the model"
   ]
  },
  {
   "cell_type": "code",
   "execution_count": 5,
   "metadata": {},
   "outputs": [
    {
     "name": "stdout",
     "output_type": "stream",
     "text": [
      "Model: \"sequential\"\n",
      "_________________________________________________________________\n",
      "Layer (type)                 Output Shape              Param #   \n",
      "=================================================================\n",
      "conv2d (Conv2D)              (None, 198, 198, 64)      1792      \n",
      "_________________________________________________________________\n",
      "max_pooling2d (MaxPooling2D) (None, 99, 99, 64)        0         \n",
      "_________________________________________________________________\n",
      "conv2d_1 (Conv2D)            (None, 98, 98, 64)        16448     \n",
      "_________________________________________________________________\n",
      "max_pooling2d_1 (MaxPooling2 (None, 49, 49, 64)        0         \n",
      "_________________________________________________________________\n",
      "conv2d_2 (Conv2D)            (None, 47, 47, 128)       73856     \n",
      "_________________________________________________________________\n",
      "max_pooling2d_2 (MaxPooling2 (None, 23, 23, 128)       0         \n",
      "_________________________________________________________________\n",
      "conv2d_3 (Conv2D)            (None, 21, 21, 128)       147584    \n",
      "_________________________________________________________________\n",
      "max_pooling2d_3 (MaxPooling2 (None, 10, 10, 128)       0         \n",
      "_________________________________________________________________\n",
      "flatten (Flatten)            (None, 12800)             0         \n",
      "_________________________________________________________________\n",
      "dropout (Dropout)            (None, 12800)             0         \n",
      "_________________________________________________________________\n",
      "dense (Dense)                (None, 512)               6554112   \n",
      "_________________________________________________________________\n",
      "dense_1 (Dense)              (None, 13)                6669      \n",
      "=================================================================\n",
      "Total params: 6,800,461\n",
      "Trainable params: 6,800,461\n",
      "Non-trainable params: 0\n",
      "_________________________________________________________________\n",
      "Epoch 1/20\n",
      "21/21 [==============================] - ETA: 1:24 - loss: 2.5980 - accuracy: 0.03 - ETA: 49s - loss: 4.2742 - accuracy: 0.0256 - ETA: 51s - loss: 3.7206 - accuracy: 0.014 - ETA: 52s - loss: 3.4332 - accuracy: 0.029 - ETA: 50s - loss: 3.2607 - accuracy: 0.037 - ETA: 47s - loss: 3.1433 - accuracy: 0.053 - ETA: 44s - loss: 3.0604 - accuracy: 0.050 - ETA: 41s - loss: 2.9974 - accuracy: 0.056 - ETA: 38s - loss: 2.9485 - accuracy: 0.060 - ETA: 34s - loss: 2.9061 - accuracy: 0.091 - ETA: 32s - loss: 2.8709 - accuracy: 0.097 - ETA: 28s - loss: 2.8606 - accuracy: 0.091 - ETA: 25s - loss: 2.8383 - accuracy: 0.094 - ETA: 22s - loss: 2.8176 - accuracy: 0.096 - ETA: 19s - loss: 2.7992 - accuracy: 0.098 - ETA: 15s - loss: 2.7856 - accuracy: 0.092 - ETA: 12s - loss: 2.7719 - accuracy: 0.096 - ETA: 9s - loss: 2.7578 - accuracy: 0.110 - ETA: 6s - loss: 2.7451 - accuracy: 0.11 - ETA: 3s - loss: 2.7308 - accuracy: 0.12 - 69s 3s/step - loss: 2.7246 - accuracy: 0.1206 - val_loss: 2.4983 - val_accuracy: 0.2778\n",
      "Epoch 2/20\n",
      "21/21 [==============================] - ETA: 1:10 - loss: 2.5075 - accuracy: 0.25 - ETA: 1:06 - loss: 2.5134 - accuracy: 0.18 - ETA: 1:02 - loss: 2.4902 - accuracy: 0.17 - ETA: 57s - loss: 2.4618 - accuracy: 0.1719 - ETA: 53s - loss: 2.4645 - accuracy: 0.162 - ETA: 50s - loss: 2.4431 - accuracy: 0.171 - ETA: 46s - loss: 2.4258 - accuracy: 0.165 - ETA: 39s - loss: 2.4459 - accuracy: 0.164 - ETA: 36s - loss: 2.4365 - accuracy: 0.159 - ETA: 33s - loss: 2.4095 - accuracy: 0.179 - ETA: 30s - loss: 2.3889 - accuracy: 0.198 - ETA: 27s - loss: 2.3742 - accuracy: 0.197 - ETA: 24s - loss: 2.3504 - accuracy: 0.207 - ETA: 21s - loss: 2.3212 - accuracy: 0.219 - ETA: 18s - loss: 2.3211 - accuracy: 0.213 - ETA: 15s - loss: 2.3111 - accuracy: 0.223 - ETA: 12s - loss: 2.2902 - accuracy: 0.231 - ETA: 9s - loss: 2.2845 - accuracy: 0.225 - ETA: 6s - loss: 2.2711 - accuracy: 0.22 - ETA: 3s - loss: 2.2386 - accuracy: 0.24 - 67s 3s/step - loss: 2.2146 - accuracy: 0.2535 - val_loss: 1.5277 - val_accuracy: 0.5278\n",
      "Epoch 3/20\n",
      "21/21 [==============================] - ETA: 1:07 - loss: 1.4379 - accuracy: 0.53 - ETA: 1:03 - loss: 1.5801 - accuracy: 0.50 - ETA: 59s - loss: 1.5780 - accuracy: 0.4583 - ETA: 46s - loss: 1.6502 - accuracy: 0.456 - ETA: 45s - loss: 1.7558 - accuracy: 0.407 - ETA: 43s - loss: 1.7825 - accuracy: 0.413 - ETA: 41s - loss: 1.7437 - accuracy: 0.432 - ETA: 38s - loss: 1.8046 - accuracy: 0.411 - ETA: 35s - loss: 1.7991 - accuracy: 0.414 - ETA: 33s - loss: 1.7749 - accuracy: 0.427 - ETA: 30s - loss: 1.7772 - accuracy: 0.425 - ETA: 27s - loss: 1.7410 - accuracy: 0.437 - ETA: 24s - loss: 1.6970 - accuracy: 0.447 - ETA: 21s - loss: 1.6719 - accuracy: 0.446 - ETA: 18s - loss: 1.6551 - accuracy: 0.452 - ETA: 15s - loss: 1.6337 - accuracy: 0.455 - ETA: 12s - loss: 1.6494 - accuracy: 0.448 - ETA: 9s - loss: 1.6493 - accuracy: 0.450 - ETA: 6s - loss: 1.6479 - accuracy: 0.45 - ETA: 3s - loss: 1.6306 - accuracy: 0.45 - 68s 3s/step - loss: 1.6263 - accuracy: 0.4668 - val_loss: 1.3276 - val_accuracy: 0.5417\n",
      "Epoch 4/20\n",
      "21/21 [==============================] - ETA: 1:13 - loss: 1.6330 - accuracy: 0.50 - ETA: 1:07 - loss: 1.6721 - accuracy: 0.51 - ETA: 1:02 - loss: 1.5806 - accuracy: 0.52 - ETA: 57s - loss: 1.5174 - accuracy: 0.5625 - ETA: 53s - loss: 1.4359 - accuracy: 0.581 - ETA: 49s - loss: 1.4378 - accuracy: 0.562 - ETA: 45s - loss: 1.4645 - accuracy: 0.544 - ETA: 42s - loss: 1.4398 - accuracy: 0.554 - ETA: 38s - loss: 1.4279 - accuracy: 0.559 - ETA: 35s - loss: 1.4064 - accuracy: 0.556 - ETA: 32s - loss: 1.3677 - accuracy: 0.568 - ETA: 28s - loss: 1.3577 - accuracy: 0.578 - ETA: 25s - loss: 1.3751 - accuracy: 0.567 - ETA: 22s - loss: 1.3642 - accuracy: 0.567 - ETA: 19s - loss: 1.3322 - accuracy: 0.579 - ETA: 15s - loss: 1.3313 - accuracy: 0.582 - ETA: 12s - loss: 1.3235 - accuracy: 0.588 - ETA: 9s - loss: 1.3207 - accuracy: 0.586 - ETA: 6s - loss: 1.4901 - accuracy: 0.56 - ETA: 3s - loss: 1.5263 - accuracy: 0.55 - 67s 3s/step - loss: 1.5193 - accuracy: 0.5518 - val_loss: 1.3223 - val_accuracy: 0.6111\n",
      "Epoch 5/20\n",
      "21/21 [==============================] - ETA: 1:14 - loss: 1.0351 - accuracy: 0.68 - ETA: 1:08 - loss: 0.9841 - accuracy: 0.70 - ETA: 1:02 - loss: 1.1370 - accuracy: 0.63 - ETA: 58s - loss: 1.1323 - accuracy: 0.6484 - ETA: 53s - loss: 1.0777 - accuracy: 0.675 - ETA: 50s - loss: 1.0409 - accuracy: 0.677 - ETA: 47s - loss: 1.0717 - accuracy: 0.669 - ETA: 43s - loss: 1.0685 - accuracy: 0.656 - ETA: 40s - loss: 1.1490 - accuracy: 0.631 - ETA: 36s - loss: 1.1716 - accuracy: 0.631 - ETA: 31s - loss: 1.1238 - accuracy: 0.639 - ETA: 28s - loss: 1.1467 - accuracy: 0.637 - ETA: 24s - loss: 1.1238 - accuracy: 0.644 - ETA: 21s - loss: 1.1228 - accuracy: 0.638 - ETA: 18s - loss: 1.1392 - accuracy: 0.630 - ETA: 15s - loss: 1.1498 - accuracy: 0.626 - ETA: 12s - loss: 1.1331 - accuracy: 0.635 - ETA: 9s - loss: 1.1291 - accuracy: 0.646 - ETA: 6s - loss: 1.1158 - accuracy: 0.64 - ETA: 3s - loss: 1.1049 - accuracy: 0.65 - 67s 3s/step - loss: 1.1355 - accuracy: 0.6414 - val_loss: 1.1742 - val_accuracy: 0.6250\n",
      "Epoch 6/20\n",
      "21/21 [==============================] - ETA: 1:09 - loss: 1.2371 - accuracy: 0.65 - ETA: 1:05 - loss: 1.2546 - accuracy: 0.62 - ETA: 1:00 - loss: 1.1609 - accuracy: 0.66 - ETA: 56s - loss: 1.0462 - accuracy: 0.6953 - ETA: 53s - loss: 1.0245 - accuracy: 0.712 - ETA: 49s - loss: 1.0385 - accuracy: 0.687 - ETA: 46s - loss: 1.0642 - accuracy: 0.683 - ETA: 43s - loss: 1.0381 - accuracy: 0.695 - ETA: 39s - loss: 0.9868 - accuracy: 0.711 - ETA: 36s - loss: 0.9909 - accuracy: 0.706 - ETA: 32s - loss: 1.0037 - accuracy: 0.698 - ETA: 29s - loss: 0.9765 - accuracy: 0.705 - ETA: 24s - loss: 0.9859 - accuracy: 0.700 - ETA: 21s - loss: 0.9844 - accuracy: 0.699 - ETA: 18s - loss: 1.0024 - accuracy: 0.685 - ETA: 15s - loss: 0.9935 - accuracy: 0.689 - ETA: 12s - loss: 0.9909 - accuracy: 0.693 - ETA: 9s - loss: 0.9973 - accuracy: 0.687 - ETA: 6s - loss: 0.9945 - accuracy: 0.68 - ETA: 3s - loss: 0.9877 - accuracy: 0.69 - 67s 3s/step - loss: 0.9780 - accuracy: 0.6940 - val_loss: 1.0863 - val_accuracy: 0.7083\n",
      "Epoch 7/20\n"
     ]
    },
    {
     "name": "stdout",
     "output_type": "stream",
     "text": [
      "21/21 [==============================] - ETA: 1:08 - loss: 0.8630 - accuracy: 0.71 - ETA: 1:06 - loss: 0.8383 - accuracy: 0.71 - ETA: 1:04 - loss: 1.0085 - accuracy: 0.68 - ETA: 59s - loss: 1.0426 - accuracy: 0.6797 - ETA: 56s - loss: 0.9474 - accuracy: 0.712 - ETA: 52s - loss: 0.9426 - accuracy: 0.708 - ETA: 49s - loss: 0.9251 - accuracy: 0.709 - ETA: 46s - loss: 0.8813 - accuracy: 0.718 - ETA: 42s - loss: 0.8702 - accuracy: 0.722 - ETA: 39s - loss: 0.9105 - accuracy: 0.706 - ETA: 35s - loss: 0.9273 - accuracy: 0.698 - ETA: 31s - loss: 0.9509 - accuracy: 0.687 - ETA: 28s - loss: 0.9489 - accuracy: 0.685 - ETA: 24s - loss: 0.9323 - accuracy: 0.696 - ETA: 21s - loss: 0.9221 - accuracy: 0.700 - ETA: 17s - loss: 0.9258 - accuracy: 0.701 - ETA: 14s - loss: 0.9173 - accuracy: 0.702 - ETA: 10s - loss: 0.8956 - accuracy: 0.706 - ETA: 7s - loss: 0.8897 - accuracy: 0.707 - ETA: 3s - loss: 0.8980 - accuracy: 0.70 - 74s 4s/step - loss: 0.8837 - accuracy: 0.7048 - val_loss: 0.8742 - val_accuracy: 0.6528\n",
      "Epoch 8/20\n",
      "21/21 [==============================] - ETA: 1:16 - loss: 0.9506 - accuracy: 0.71 - ETA: 1:13 - loss: 0.8976 - accuracy: 0.73 - ETA: 1:10 - loss: 0.8671 - accuracy: 0.75 - ETA: 1:06 - loss: 0.7985 - accuracy: 0.78 - ETA: 1:01 - loss: 0.8153 - accuracy: 0.76 - ETA: 56s - loss: 0.7911 - accuracy: 0.7552 - ETA: 52s - loss: 0.8287 - accuracy: 0.741 - ETA: 48s - loss: 0.8332 - accuracy: 0.750 - ETA: 45s - loss: 0.8467 - accuracy: 0.743 - ETA: 41s - loss: 0.8379 - accuracy: 0.737 - ETA: 37s - loss: 0.8307 - accuracy: 0.744 - ETA: 33s - loss: 0.8016 - accuracy: 0.752 - ETA: 29s - loss: 0.7998 - accuracy: 0.745 - ETA: 25s - loss: 0.7907 - accuracy: 0.750 - ETA: 21s - loss: 0.7771 - accuracy: 0.752 - ETA: 18s - loss: 0.7635 - accuracy: 0.759 - ETA: 14s - loss: 0.7656 - accuracy: 0.757 - ETA: 10s - loss: 0.7715 - accuracy: 0.755 - ETA: 7s - loss: 0.7612 - accuracy: 0.763 - ETA: 3s - loss: 0.7615 - accuracy: 0.76 - 76s 4s/step - loss: 0.7804 - accuracy: 0.7635 - val_loss: 1.2340 - val_accuracy: 0.5556\n",
      "Epoch 9/20\n",
      "21/21 [==============================] - ETA: 1:14 - loss: 0.8103 - accuracy: 0.68 - ETA: 1:11 - loss: 0.7014 - accuracy: 0.73 - ETA: 1:08 - loss: 0.6100 - accuracy: 0.78 - ETA: 1:04 - loss: 0.5799 - accuracy: 0.79 - ETA: 1:00 - loss: 0.6631 - accuracy: 0.76 - ETA: 49s - loss: 0.6060 - accuracy: 0.7665 - ETA: 46s - loss: 0.5720 - accuracy: 0.778 - ETA: 44s - loss: 0.5754 - accuracy: 0.787 - ETA: 40s - loss: 0.5900 - accuracy: 0.787 - ETA: 37s - loss: 0.5795 - accuracy: 0.793 - ETA: 34s - loss: 0.5832 - accuracy: 0.785 - ETA: 30s - loss: 0.5802 - accuracy: 0.796 - ETA: 27s - loss: 0.5968 - accuracy: 0.790 - ETA: 23s - loss: 0.5959 - accuracy: 0.789 - ETA: 20s - loss: 0.6347 - accuracy: 0.775 - ETA: 17s - loss: 0.6827 - accuracy: 0.757 - ETA: 13s - loss: 0.6890 - accuracy: 0.757 - ETA: 10s - loss: 0.6740 - accuracy: 0.762 - ETA: 6s - loss: 0.6652 - accuracy: 0.765 - ETA: 3s - loss: 0.6704 - accuracy: 0.76 - 75s 4s/step - loss: 0.6766 - accuracy: 0.7682 - val_loss: 1.0843 - val_accuracy: 0.7222\n",
      "Epoch 10/20\n",
      "21/21 [==============================] - ETA: 1:15 - loss: 0.8843 - accuracy: 0.75 - ETA: 1:11 - loss: 0.6445 - accuracy: 0.82 - ETA: 1:08 - loss: 0.6377 - accuracy: 0.85 - ETA: 1:03 - loss: 0.6619 - accuracy: 0.82 - ETA: 59s - loss: 0.6022 - accuracy: 0.8438 - ETA: 55s - loss: 0.5947 - accuracy: 0.843 - ETA: 51s - loss: 0.6075 - accuracy: 0.825 - ETA: 47s - loss: 0.5887 - accuracy: 0.824 - ETA: 43s - loss: 0.5697 - accuracy: 0.822 - ETA: 39s - loss: 0.5490 - accuracy: 0.828 - ETA: 36s - loss: 0.5480 - accuracy: 0.823 - ETA: 32s - loss: 0.5607 - accuracy: 0.825 - ETA: 28s - loss: 0.5457 - accuracy: 0.829 - ETA: 24s - loss: 0.5218 - accuracy: 0.834 - ETA: 21s - loss: 0.5324 - accuracy: 0.835 - ETA: 17s - loss: 0.5225 - accuracy: 0.835 - ETA: 14s - loss: 0.5517 - accuracy: 0.830 - ETA: 10s - loss: 0.5624 - accuracy: 0.829 - ETA: 6s - loss: 0.5725 - accuracy: 0.825 - ETA: 3s - loss: 0.5660 - accuracy: 0.82 - 75s 4s/step - loss: 0.5777 - accuracy: 0.8253 - val_loss: 0.9724 - val_accuracy: 0.7222\n",
      "Epoch 11/20\n",
      "21/21 [==============================] - ETA: 1:18 - loss: 0.5460 - accuracy: 0.78 - ETA: 1:14 - loss: 0.4740 - accuracy: 0.82 - ETA: 1:09 - loss: 0.4476 - accuracy: 0.84 - ETA: 1:04 - loss: 0.4103 - accuracy: 0.85 - ETA: 51s - loss: 0.3601 - accuracy: 0.8593 - ETA: 49s - loss: 0.3881 - accuracy: 0.844 - ETA: 46s - loss: 0.4015 - accuracy: 0.844 - ETA: 43s - loss: 0.4016 - accuracy: 0.857 - ETA: 40s - loss: 0.4346 - accuracy: 0.847 - ETA: 37s - loss: 0.4334 - accuracy: 0.847 - ETA: 34s - loss: 0.4539 - accuracy: 0.837 - ETA: 30s - loss: 0.4575 - accuracy: 0.835 - ETA: 27s - loss: 0.4764 - accuracy: 0.828 - ETA: 23s - loss: 0.4741 - accuracy: 0.825 - ETA: 20s - loss: 0.4677 - accuracy: 0.826 - ETA: 17s - loss: 0.4840 - accuracy: 0.821 - ETA: 13s - loss: 0.4746 - accuracy: 0.828 - ETA: 10s - loss: 0.4729 - accuracy: 0.829 - ETA: 6s - loss: 0.4805 - accuracy: 0.830 - ETA: 3s - loss: 0.4796 - accuracy: 0.82 - 75s 4s/step - loss: 0.4961 - accuracy: 0.8238 - val_loss: 1.0406 - val_accuracy: 0.6667\n",
      "Epoch 12/20\n",
      "21/21 [==============================] - ETA: 1:14 - loss: 0.4240 - accuracy: 0.84 - ETA: 1:09 - loss: 0.4094 - accuracy: 0.85 - ETA: 1:06 - loss: 0.4382 - accuracy: 0.86 - ETA: 1:01 - loss: 0.3685 - accuracy: 0.89 - ETA: 57s - loss: 0.3557 - accuracy: 0.9000 - ETA: 53s - loss: 0.3739 - accuracy: 0.890 - ETA: 50s - loss: 0.3856 - accuracy: 0.879 - ETA: 46s - loss: 0.3773 - accuracy: 0.875 - ETA: 42s - loss: 0.3597 - accuracy: 0.881 - ETA: 38s - loss: 0.3632 - accuracy: 0.887 - ETA: 34s - loss: 0.3476 - accuracy: 0.889 - ETA: 28s - loss: 0.3242 - accuracy: 0.891 - ETA: 25s - loss: 0.3238 - accuracy: 0.890 - ETA: 22s - loss: 0.3405 - accuracy: 0.879 - ETA: 19s - loss: 0.3764 - accuracy: 0.865 - ETA: 15s - loss: 0.3709 - accuracy: 0.870 - ETA: 12s - loss: 0.3737 - accuracy: 0.872 - ETA: 9s - loss: 0.3631 - accuracy: 0.874 - ETA: 6s - loss: 0.3921 - accuracy: 0.86 - ETA: 3s - loss: 0.3907 - accuracy: 0.86 - 69s 3s/step - loss: 0.3967 - accuracy: 0.8686 - val_loss: 0.9228 - val_accuracy: 0.7361\n",
      "Epoch 13/20\n",
      "21/21 [==============================] - ETA: 1:11 - loss: 0.2559 - accuracy: 0.90 - ETA: 1:06 - loss: 0.2934 - accuracy: 0.89 - ETA: 48s - loss: 0.2553 - accuracy: 0.9014 - ETA: 47s - loss: 0.3351 - accuracy: 0.844 - ETA: 46s - loss: 0.4106 - accuracy: 0.822 - ETA: 44s - loss: 0.4320 - accuracy: 0.826 - ETA: 41s - loss: 0.4008 - accuracy: 0.849 - ETA: 39s - loss: 0.3892 - accuracy: 0.857 - ETA: 36s - loss: 0.3751 - accuracy: 0.866 - ETA: 33s - loss: 0.3518 - accuracy: 0.878 - ETA: 30s - loss: 0.3641 - accuracy: 0.874 - ETA: 27s - loss: 0.3599 - accuracy: 0.874 - ETA: 24s - loss: 0.3758 - accuracy: 0.869 - ETA: 21s - loss: 0.4036 - accuracy: 0.870 - ETA: 18s - loss: 0.3903 - accuracy: 0.874 - ETA: 15s - loss: 0.3873 - accuracy: 0.872 - ETA: 12s - loss: 0.3762 - accuracy: 0.876 - ETA: 9s - loss: 0.3802 - accuracy: 0.876 - ETA: 6s - loss: 0.3749 - accuracy: 0.87 - ETA: 3s - loss: 0.3697 - accuracy: 0.87 - 66s 3s/step - loss: 0.3673 - accuracy: 0.8810 - val_loss: 1.4141 - val_accuracy: 0.6806\n",
      "Epoch 14/20\n",
      "21/21 [==============================] - ETA: 1:08 - loss: 0.5629 - accuracy: 0.75 - ETA: 1:04 - loss: 0.5727 - accuracy: 0.81 - ETA: 59s - loss: 0.5335 - accuracy: 0.8229 - ETA: 56s - loss: 0.4790 - accuracy: 0.843 - ETA: 52s - loss: 0.4372 - accuracy: 0.856 - ETA: 49s - loss: 0.3937 - accuracy: 0.869 - ETA: 45s - loss: 0.3941 - accuracy: 0.870 - ETA: 38s - loss: 0.3658 - accuracy: 0.874 - ETA: 36s - loss: 0.3727 - accuracy: 0.874 - ETA: 33s - loss: 0.3547 - accuracy: 0.881 - ETA: 30s - loss: 0.3384 - accuracy: 0.886 - ETA: 27s - loss: 0.3522 - accuracy: 0.880 - ETA: 24s - loss: 0.3579 - accuracy: 0.882 - ETA: 21s - loss: 0.3475 - accuracy: 0.888 - ETA: 18s - loss: 0.3569 - accuracy: 0.885 - ETA: 15s - loss: 0.3530 - accuracy: 0.889 - ETA: 12s - loss: 0.3569 - accuracy: 0.888 - ETA: 9s - loss: 0.3604 - accuracy: 0.885 - ETA: 6s - loss: 0.3636 - accuracy: 0.88 - ETA: 3s - loss: 0.3602 - accuracy: 0.88 - 68s 3s/step - loss: 0.3626 - accuracy: 0.8810 - val_loss: 0.8078 - val_accuracy: 0.7500\n",
      "Epoch 15/20\n"
     ]
    },
    {
     "name": "stdout",
     "output_type": "stream",
     "text": [
      "21/21 [==============================] - ETA: 1:12 - loss: 0.3397 - accuracy: 0.87 - ETA: 1:08 - loss: 0.2534 - accuracy: 0.93 - ETA: 1:03 - loss: 0.2072 - accuracy: 0.94 - ETA: 58s - loss: 0.2276 - accuracy: 0.9375 - ETA: 54s - loss: 0.1881 - accuracy: 0.950 - ETA: 50s - loss: 0.1743 - accuracy: 0.953 - ETA: 47s - loss: 0.2206 - accuracy: 0.946 - ETA: 44s - loss: 0.2110 - accuracy: 0.949 - ETA: 40s - loss: 0.2497 - accuracy: 0.937 - ETA: 37s - loss: 0.2699 - accuracy: 0.931 - ETA: 33s - loss: 0.2782 - accuracy: 0.931 - ETA: 30s - loss: 0.2949 - accuracy: 0.919 - ETA: 26s - loss: 0.2939 - accuracy: 0.918 - ETA: 23s - loss: 0.3147 - accuracy: 0.917 - ETA: 20s - loss: 0.3150 - accuracy: 0.914 - ETA: 16s - loss: 0.3086 - accuracy: 0.913 - ETA: 13s - loss: 0.3193 - accuracy: 0.905 - ETA: 10s - loss: 0.3151 - accuracy: 0.907 - ETA: 6s - loss: 0.3162 - accuracy: 0.903 - ETA: 3s - loss: 0.3180 - accuracy: 0.90 - 74s 4s/step - loss: 0.3136 - accuracy: 0.9042 - val_loss: 1.3033 - val_accuracy: 0.6667\n",
      "Epoch 16/20\n",
      "21/21 [==============================] - ETA: 1:11 - loss: 0.2058 - accuracy: 0.96 - ETA: 1:08 - loss: 0.1658 - accuracy: 0.98 - ETA: 1:03 - loss: 0.1534 - accuracy: 0.97 - ETA: 58s - loss: 0.1543 - accuracy: 0.9766 - ETA: 54s - loss: 0.1735 - accuracy: 0.968 - ETA: 50s - loss: 0.1674 - accuracy: 0.968 - ETA: 46s - loss: 0.1727 - accuracy: 0.968 - ETA: 43s - loss: 0.1976 - accuracy: 0.964 - ETA: 39s - loss: 0.2812 - accuracy: 0.941 - ETA: 36s - loss: 0.3015 - accuracy: 0.928 - ETA: 32s - loss: 0.2969 - accuracy: 0.926 - ETA: 29s - loss: 0.2949 - accuracy: 0.924 - ETA: 25s - loss: 0.2906 - accuracy: 0.925 - ETA: 22s - loss: 0.2839 - accuracy: 0.924 - ETA: 19s - loss: 0.2898 - accuracy: 0.918 - ETA: 15s - loss: 0.2935 - accuracy: 0.918 - ETA: 12s - loss: 0.2787 - accuracy: 0.919 - ETA: 9s - loss: 0.2844 - accuracy: 0.920 - ETA: 6s - loss: 0.2790 - accuracy: 0.92 - ETA: 3s - loss: 0.2865 - accuracy: 0.91 - 67s 3s/step - loss: 0.3012 - accuracy: 0.9104 - val_loss: 1.1827 - val_accuracy: 0.6667\n",
      "Epoch 17/20\n",
      "21/21 [==============================] - ETA: 1:06 - loss: 0.2886 - accuracy: 0.93 - ETA: 1:03 - loss: 0.2550 - accuracy: 0.92 - ETA: 1:00 - loss: 0.2192 - accuracy: 0.93 - ETA: 55s - loss: 0.2012 - accuracy: 0.9453 - ETA: 45s - loss: 0.1919 - accuracy: 0.948 - ETA: 43s - loss: 0.2262 - accuracy: 0.946 - ETA: 40s - loss: 0.2090 - accuracy: 0.949 - ETA: 38s - loss: 0.2027 - accuracy: 0.952 - ETA: 35s - loss: 0.1858 - accuracy: 0.958 - ETA: 32s - loss: 0.1940 - accuracy: 0.952 - ETA: 30s - loss: 0.1905 - accuracy: 0.951 - ETA: 27s - loss: 0.2063 - accuracy: 0.949 - ETA: 23s - loss: 0.2079 - accuracy: 0.948 - ETA: 20s - loss: 0.2041 - accuracy: 0.950 - ETA: 18s - loss: 0.2123 - accuracy: 0.947 - ETA: 15s - loss: 0.2057 - accuracy: 0.946 - ETA: 12s - loss: 0.1969 - accuracy: 0.949 - ETA: 9s - loss: 0.1938 - accuracy: 0.951 - ETA: 6s - loss: 0.1891 - accuracy: 0.95 - ETA: 3s - loss: 0.1912 - accuracy: 0.95 - 66s 3s/step - loss: 0.2024 - accuracy: 0.9459 - val_loss: 1.5446 - val_accuracy: 0.6667\n",
      "Epoch 18/20\n",
      "21/21 [==============================] - ETA: 1:07 - loss: 0.1238 - accuracy: 0.93 - ETA: 1:03 - loss: 0.1652 - accuracy: 0.92 - ETA: 1:00 - loss: 0.1874 - accuracy: 0.92 - ETA: 56s - loss: 0.1987 - accuracy: 0.9375 - ETA: 52s - loss: 0.2630 - accuracy: 0.918 - ETA: 48s - loss: 0.2593 - accuracy: 0.921 - ETA: 45s - loss: 0.2612 - accuracy: 0.915 - ETA: 41s - loss: 0.2734 - accuracy: 0.921 - ETA: 38s - loss: 0.2649 - accuracy: 0.916 - ETA: 35s - loss: 0.2582 - accuracy: 0.918 - ETA: 31s - loss: 0.2710 - accuracy: 0.914 - ETA: 28s - loss: 0.2572 - accuracy: 0.919 - ETA: 23s - loss: 0.2692 - accuracy: 0.915 - ETA: 20s - loss: 0.3266 - accuracy: 0.898 - ETA: 17s - loss: 0.3317 - accuracy: 0.894 - ETA: 14s - loss: 0.3426 - accuracy: 0.895 - ETA: 11s - loss: 0.3392 - accuracy: 0.896 - ETA: 8s - loss: 0.3270 - accuracy: 0.900 - ETA: 5s - loss: 0.3199 - accuracy: 0.90 - ETA: 2s - loss: 0.3133 - accuracy: 0.90 - 66s 3s/step - loss: 0.3041 - accuracy: 0.9057 - val_loss: 0.9472 - val_accuracy: 0.6944\n",
      "Epoch 19/20\n",
      "21/21 [==============================] - ETA: 1:09 - loss: 0.2933 - accuracy: 0.90 - ETA: 1:05 - loss: 0.1932 - accuracy: 0.95 - ETA: 1:00 - loss: 0.1807 - accuracy: 0.94 - ETA: 56s - loss: 0.1949 - accuracy: 0.9531 - ETA: 52s - loss: 0.2423 - accuracy: 0.943 - ETA: 48s - loss: 0.2493 - accuracy: 0.942 - ETA: 44s - loss: 0.2283 - accuracy: 0.946 - ETA: 41s - loss: 0.2073 - accuracy: 0.953 - ETA: 38s - loss: 0.2168 - accuracy: 0.947 - ETA: 35s - loss: 0.2041 - accuracy: 0.950 - ETA: 32s - loss: 0.1892 - accuracy: 0.954 - ETA: 28s - loss: 0.1823 - accuracy: 0.953 - ETA: 25s - loss: 0.2027 - accuracy: 0.949 - ETA: 22s - loss: 0.1956 - accuracy: 0.950 - ETA: 18s - loss: 0.1966 - accuracy: 0.950 - ETA: 15s - loss: 0.2076 - accuracy: 0.948 - ETA: 12s - loss: 0.2111 - accuracy: 0.944 - ETA: 9s - loss: 0.2295 - accuracy: 0.940 - ETA: 6s - loss: 0.2328 - accuracy: 0.94 - ETA: 3s - loss: 0.2267 - accuracy: 0.93 - 67s 3s/step - loss: 0.2264 - accuracy: 0.9397 - val_loss: 0.9313 - val_accuracy: 0.7639\n",
      "Epoch 20/20\n",
      "21/21 [==============================] - ETA: 1:07 - loss: 0.0566 - accuracy: 1.00 - ETA: 1:04 - loss: 0.0731 - accuracy: 1.00 - ETA: 1:00 - loss: 0.0809 - accuracy: 0.98 - ETA: 56s - loss: 0.0904 - accuracy: 0.9844 - ETA: 52s - loss: 0.0928 - accuracy: 0.981 - ETA: 48s - loss: 0.0789 - accuracy: 0.984 - ETA: 40s - loss: 0.0889 - accuracy: 0.979 - ETA: 38s - loss: 0.1664 - accuracy: 0.956 - ETA: 35s - loss: 0.1905 - accuracy: 0.943 - ETA: 32s - loss: 0.1756 - accuracy: 0.949 - ETA: 29s - loss: 0.1637 - accuracy: 0.954 - ETA: 26s - loss: 0.1637 - accuracy: 0.952 - ETA: 23s - loss: 0.1609 - accuracy: 0.954 - ETA: 20s - loss: 0.1570 - accuracy: 0.955 - ETA: 17s - loss: 0.1615 - accuracy: 0.951 - ETA: 14s - loss: 0.1692 - accuracy: 0.948 - ETA: 11s - loss: 0.1664 - accuracy: 0.949 - ETA: 8s - loss: 0.1778 - accuracy: 0.947 - ETA: 6s - loss: 0.1744 - accuracy: 0.94 - ETA: 3s - loss: 0.1707 - accuracy: 0.94 - 66s 3s/step - loss: 0.1902 - accuracy: 0.9444 - val_loss: 1.0275 - val_accuracy: 0.6528\n"
     ]
    }
   ],
   "source": [
    "model = tf.keras.models.Sequential([\n",
    "    \n",
    "    # This is the first convolution\n",
    "    tf.keras.layers.Conv2D(64, (3,3), activation='relu', input_shape=(200, 200, 3)),\n",
    "    tf.keras.layers.MaxPooling2D(2, 2),\n",
    "    # The second convolution\n",
    "    tf.keras.layers.Conv2D(64, (2,2), activation='relu'),\n",
    "    tf.keras.layers.MaxPooling2D(2,2),\n",
    "    \n",
    "        # The third convolution\n",
    "    tf.keras.layers.Conv2D(128, (3,3), activation='relu'),\n",
    "    tf.keras.layers.MaxPooling2D(2,2),\n",
    "    # The fourth convolution\n",
    "    tf.keras.layers.Conv2D(128, (3,3), activation='relu'),\n",
    "    tf.keras.layers.MaxPooling2D(2,2),\n",
    "    # Flatten the results to feed into a DNN\n",
    "    tf.keras.layers.Flatten(),\n",
    "    tf.keras.layers.Dropout(0.5),\n",
    "    # 512 neuron hidden layer\n",
    "    tf.keras.layers.Dense(512, activation='relu'),\n",
    "    tf.keras.layers.Dense(13, activation='softmax')\n",
    "])\n",
    "model.summary()\n",
    "\n",
    "model.compile(loss = 'categorical_crossentropy', optimizer='rmsprop', metrics=['accuracy']) #usually  optimizer='adam'\n",
    "\n",
    "history = model.fit_generator(train_generator, epochs=20, validation_data = validation_generator, verbose = 1)\n",
    "\n",
    "model.save(\"sp_recog.h5\")"
   ]
  },
  {
   "cell_type": "code",
   "execution_count": 12,
   "metadata": {},
   "outputs": [
    {
     "data": {
      "image/png": "[encoded data removed]",
      "text/plain": [
       "<Figure size 432x288 with 2 Axes>"
      ]
     },
     "metadata": {
      "needs_background": "light"
     },
     "output_type": "display_data"
    }
   ],
   "source": [
    "import matplotlib.pyplot as plt\n",
    "acc = history.history['accuracy']\n",
    "val_acc = history.history['val_accuracy']\n",
    "loss = history.history['loss']\n",
    "val_loss = history.history['val_loss']\n",
    "\n",
    "epochs = range(len(acc))\n",
    "plt.subplot(2,1,1)\n",
    "plt.plot(epochs, acc, 'r', label='Training accuracy')\n",
    "plt.plot(epochs, val_acc, 'b', label='Validation accuracy')\n",
    "plt.legend(loc=0)\n",
    "plt.grid()\n",
    "plt.subplot(2,1,2)\n",
    "plt.plot(epochs, loss, 'r', label='Training loss')\n",
    "plt.plot(epochs, val_loss, 'b', label='Validation loss')\n",
    "plt.legend(loc=0)\n",
    "plt.grid()\n",
    "plt.savefig('250epochs', bbox_inches=\"tight\")\n",
    "plt.show()"
   ]
  },
  {
   "cell_type": "code",
   "execution_count": 7,
   "metadata": {},
   "outputs": [
    {
     "data": {
      "text/plain": [
       "0.7083334"
      ]
     },
     "execution_count": 7,
     "metadata": {},
     "output_type": "execute_result"
    }
   ],
   "source": [
    "np.mean(history.history['val_accuracy'][18:22])"
   ]
  },
  {
   "cell_type": "code",
   "execution_count": 28,
   "metadata": {
    "scrolled": true
   },
   "outputs": [
    {
     "name": "stdout",
     "output_type": "stream",
     "text": [
      "filename: 006a5b2cb6.wav, predicted as: 11\n",
      "filename: 0130bbb543.wav, predicted as: 1\n",
      "filename: 0217a3b12a.wav, predicted as: 8\n",
      "filename: 029830a064.wav, predicted as: 6\n",
      "filename: 099743a386.wav, predicted as: 8\n",
      "filename: 0c7156ca20.wav, predicted as: 8\n",
      "filename: 135451ab23.wav, predicted as: 2\n",
      "filename: 1510c30707.wav, predicted as: 12\n",
      "filename: 16ac11144b.wav, predicted as: 4\n",
      "filename: 17b6a64673.wav, predicted as: 3\n",
      "filename: 1aa7222c02.wav, predicted as: 3\n",
      "filename: 2581723976.wav, predicted as: 6\n",
      "filename: 2885430727.wav, predicted as: 8\n",
      "filename: 2918750a33.wav, predicted as: 8\n",
      "filename: 298a616a81.wav, predicted as: 6\n",
      "filename: 2aa949c3a3.wav, predicted as: 10\n",
      "filename: 2b9c815b22.wav, predicted as: 2\n",
      "filename: 2c2caacb08.wav, predicted as: 8\n",
      "filename: 2ccc498b11.wav, predicted as: 1\n",
      "filename: 349a432075.wav, predicted as: 3\n",
      "filename: 3511193c15.wav, predicted as: 3\n",
      "filename: 3720059427.wav, predicted as: 2\n",
      "filename: 3a8b7b6312.wav, predicted as: 1\n",
      "filename: 3c0c80240a.wav, predicted as: 10\n",
      "filename: 42c3244119.wav, predicted as: 1\n",
      "filename: 4442b07439.wav, predicted as: 3\n",
      "filename: 45515a319a.wav, predicted as: 9\n",
      "filename: 462b5b07c6.wav, predicted as: 12\n",
      "filename: 48354bb1b5.wav, predicted as: 6\n",
      "filename: 4ab7081b16.wav, predicted as: 1\n",
      "filename: 4b02c27778.wav, predicted as: 7\n",
      "filename: 4cc897a772.wav, predicted as: 7\n",
      "filename: 503928c060.wav, predicted as: 3\n",
      "filename: 503c85a313.wav, predicted as: 1\n",
      "filename: 516ca663c2.wav, predicted as: 1\n",
      "filename: 53269acac8.wav, predicted as: 8\n",
      "filename: 536649172b.wav, predicted as: 2\n",
      "filename: 5403369b32.wav, predicted as: 8\n",
      "filename: 546ac73067.wav, predicted as: 8\n",
      "filename: 55c3a8354a.wav, predicted as: 9\n",
      "filename: 596311b780.wav, predicted as: 8\n",
      "filename: 5c4b868652.wav, predicted as: 5\n",
      "filename: 5c78553c2a.wav, predicted as: 2\n",
      "filename: 5c8249a382.wav, predicted as: 8\n",
      "filename: 62caaaa804.wav, predicted as: 2\n",
      "filename: 64184baa01.wav, predicted as: 4\n",
      "filename: 651588c01c.wav, predicted as: 8\n",
      "filename: 659580854c.wav, predicted as: 4\n",
      "filename: 65ab3ba32a.wav, predicted as: 2\n",
      "filename: 67209c603b.wav, predicted as: 8\n",
      "filename: 67c591507b.wav, predicted as: 7\n",
      "filename: 68a0736471.wav, predicted as: 5\n",
      "filename: 6962554291.wav, predicted as: 3\n",
      "filename: 697a244a67.wav, predicted as: 3\n",
      "filename: 6c9437c2c8.wav, predicted as: 8\n",
      "filename: 7145409186.wav, predicted as: 6\n",
      "filename: 722a7a1a40.wav, predicted as: 6\n",
      "filename: 73c2012c62.wav, predicted as: 6\n",
      "filename: 778173b284.wav, predicted as: 8\n",
      "filename: 7786a1aa49.wav, predicted as: 4\n",
      "filename: 791614a484.wav, predicted as: 8\n",
      "filename: 7a7651cca1.wav, predicted as: 3\n",
      "filename: 7c18516800.wav, predicted as: 4\n",
      "filename: 7c2194c226.wav, predicted as: 2\n",
      "filename: 7c70962c75.wav, predicted as: 6\n",
      "filename: 8071571c06.wav, predicted as: 3\n",
      "filename: 891779c374.wav, predicted as: 7\n",
      "filename: 89b5682636.wav, predicted as: 9\n",
      "filename: 8a3857aa2c.wav, predicted as: 2\n",
      "filename: 8b64bb2bb1.wav, predicted as: 11\n",
      "filename: 906445a21a.wav, predicted as: 8\n",
      "filename: 90bc224595.wav, predicted as: 9\n",
      "filename: 92a7201824.wav, predicted as: 6\n",
      "filename: 9807cc9123.wav, predicted as: 2\n",
      "filename: 99898c8307.wav, predicted as: 0\n",
      "filename: 9b8697c3c8.wav, predicted as: 12\n",
      "filename: a405295251.wav, predicted as: 5\n",
      "filename: aa01a7694b.wav, predicted as: 4\n",
      "filename: aa89a8922b.wav, predicted as: 2\n",
      "filename: ac1c3c58c7.wav, predicted as: 3\n",
      "filename: acc2a9c054.wav, predicted as: 5\n",
      "filename: b2176a1c5c.wav, predicted as: 5\n",
      "filename: b219a35710.wav, predicted as: 1\n",
      "filename: b312543654.wav, predicted as: 5\n",
      "filename: b387b883a7.wav, predicted as: 10\n",
      "filename: b4289ac182.wav, predicted as: 6\n",
      "filename: b488a04b16.wav, predicted as: 3\n",
      "filename: b4c32589c9.wav, predicted as: 9\n",
      "filename: b50b747a58.wav, predicted as: 5\n",
      "filename: b6b87cb735.wav, predicted as: 3\n",
      "filename: b7738753b7.wav, predicted as: 11\n",
      "filename: b8763accb9.wav, predicted as: 11\n",
      "filename: c2095acb40.wav, predicted as: 4\n",
      "filename: c44b2c2954.wav, predicted as: 9\n",
      "filename: c469cbc737.wav, predicted as: 3\n",
      "filename: c709317745.wav, predicted as: 4\n",
      "filename: c7ca2bb7c5.wav, predicted as: 12\n",
      "filename: c84c924710.wav, predicted as: 1\n",
      "filename: cab2044055.wav, predicted as: 5\n",
      "filename: cb2b6b25ca.wav, predicted as: 8\n",
      "filename: cc5bc190ab.wav, predicted as: 8\n"
     ]
    }
   ],
   "source": [
    "testing_dir = os.path.join(os.getcwd(), 'TestSet_png')\n",
    "files = os.listdir(testing_dir)\n",
    "pred_dict = {0:0, 1:1, 2:10, 3:11, 4:12, 5:2, 6:3, 7:4, 8:5 , 9:6 , 10:7, 11:8, 12:9}\n",
    "for file in files:\n",
    "    img = image.load_img(os.path.join(testing_dir, file), target_size=(200, 200))\n",
    "    x = image.img_to_array(img)\n",
    "    x = np.expand_dims(x, axis=0)\n",
    "    prediction = model.predict(x, batch_size=1).argmax()\n",
    "    real_pred = pred_dict[prediction]\n",
    "    print('filename: {}, predicted as: {}'.format (file[:-4], real_pred ))"
   ]
  },
  {
   "cell_type": "code",
   "execution_count": null,
   "metadata": {},
   "outputs": [],
   "source": []
  }
 ],
 "metadata": {
  "kernelspec": {
   "display_name": "Python 3",
   "language": "python",
   "name": "python3"
  },
  "language_info": {
   "codemirror_mode": {
    "name": "ipython",
    "version": 3
   },
   "file_extension": ".py",
   "mimetype": "text/x-python",
   "name": "python",
   "nbconvert_exporter": "python",
   "pygments_lexer": "ipython3",
   "version": "3.7.4"
  }
 },
 "nbformat": 4,
 "nbformat_minor": 2
}
